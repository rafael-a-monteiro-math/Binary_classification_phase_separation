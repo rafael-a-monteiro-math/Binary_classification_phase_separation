{
 "cells": [
  {
   "cell_type": "markdown",
   "id": "0f2bd10a",
   "metadata": {},
   "source": [
    "# PSBC - Examples notebook\n",
    "\n",
    "\n",
    "This notebook contains a few examples of how the PSBC package can be used.  There is no goal of making it a thorough explanation of the whole implementation. \n",
    "\n",
    "Last, this notebook is focused on a \"what things do\" rather than a \"how things are done\". Those interested on the latter are referred to the full implementation of the MODEL on Github, namely, the files\n",
    "\n",
    "1. tfversion_binary_phase_separation.py;\n",
    "2. tf_PSBC_extra_libs_for_training_and_grid_search.py;\n",
    "3. tf_PSBC_extra_libs_for_classifier.py. \n",
    "\n",
    "These files contain the layers and the models, implemented in tensorflow."
   ]
  },
  {
   "cell_type": "code",
   "execution_count": 1,
   "id": "c6be44e5",
   "metadata": {},
   "outputs": [],
   "source": [
    "from sklearn.metrics import f1_score, accuracy_score, confusion_matrix\n",
    "from tensorflow import keras\n",
    "import tensorflow as tf\n",
    "import itertools as it\n",
    "import numpy as np\n",
    "import matplotlib.pyplot as plt\n",
    "plt.style.use('ggplot')\n",
    "import warnings\n",
    "import sys\n",
    "import os\n",
    "\n",
    "try:\n",
    "    import cPickle as pickle\n",
    "except ImportError:  # python 3.x\n",
    "    import pickle\n",
    "warnings.filterwarnings (action = \"ignore\", message = \"internal issue\")"
   ]
  },
  {
   "cell_type": "code",
   "execution_count": 2,
   "id": "2687864e",
   "metadata": {},
   "outputs": [],
   "source": [
    "Colab = False"
   ]
  },
  {
   "cell_type": "code",
   "execution_count": 3,
   "id": "902ed0c1",
   "metadata": {},
   "outputs": [],
   "source": [
    "if Colab:\n",
    "    from google.colab import drive\n",
    "    drive.mount ('/content/drive')"
   ]
  },
  {
   "cell_type": "code",
   "execution_count": 4,
   "id": "13e0ba07",
   "metadata": {},
   "outputs": [],
   "source": [
    "sys.path.insert (0, \"MOTHER_PSBC/\")\n",
    "from tfversion_binary_phase_separation import *\n",
    "from tf_PSBC_extra_libs_for_training_and_grid_search import *\n",
    "from tf_PSBC_extra_libs_for_classifier import *\n",
    "from PSBC_plots_useful import *"
   ]
  },
  {
   "cell_type": "markdown",
   "id": "8224182a",
   "metadata": {},
   "source": [
    "# Calling the PSBC model\n",
    "\n",
    "\n",
    "Before calling the PSBC parameters need to be defined. Let's say that you would like to call a PSBC with Neumann boundary conditions, $N_{pt} = 300$, $N_t = 3$, $\\varepsilon = .2$. This can be done as follows"
   ]
  },
  {
   "cell_type": "code",
   "execution_count": 5,
   "id": "b921b17a",
   "metadata": {},
   "outputs": [],
   "source": [
    "Neumann = True\n",
    "Nt = 3\n",
    "dt = .2\n",
    "lr_U = .001\n",
    "lr_P = .001\n",
    "pt_cardnlty = 300\n",
    "lks = 1\n",
    "Nx = 784\n",
    "eps = .2\n",
    "subordinate = True"
   ]
  },
  {
   "cell_type": "markdown",
   "id": "205040dc",
   "metadata": {},
   "source": [
    "Now we initialize the paramters by using the class Initialize_parameters ()"
   ]
  },
  {
   "cell_type": "code",
   "execution_count": 6,
   "id": "5841a2c9",
   "metadata": {},
   "outputs": [],
   "source": [
    "I = Initialize_parameters ()"
   ]
  },
  {
   "cell_type": "code",
   "execution_count": 7,
   "id": "9e2ecfe8",
   "metadata": {},
   "outputs": [],
   "source": [
    "parameters = I.dictionary (Nx, eps, Nt, pt_cardnlty, lks, dt = dt, Neumann = Neumann)"
   ]
  },
  {
   "cell_type": "markdown",
   "id": "b9ebcb41",
   "metadata": {},
   "source": [
    "Of course, there are other cases that can be included here (subordinate = False, etc), but I won't explain it for now. \n",
    "\n",
    "Another thing that is nice, but not necessary, is defining learning schedules, which we do as follows:"
   ]
  },
  {
   "cell_type": "code",
   "execution_count": 8,
   "id": "d4c5657a",
   "metadata": {},
   "outputs": [],
   "source": [
    "lr_schedule_U =\\\n",
    "    keras.optimizers.schedules.ExponentialDecay(\n",
    "    initial_learning_rate = lr_U,\n",
    "    decay_steps = 5,\n",
    "    decay_rate = 0.99,\n",
    "    staircase = True)\n",
    "\n",
    "lr_schedule_P =\\\n",
    "    keras.optimizers.schedules.ExponentialDecay(\n",
    "    initial_learning_rate = lr_P,\n",
    "    decay_steps = 5,\n",
    "    decay_rate = 0.99,\n",
    "    staircase = True)"
   ]
  },
  {
   "cell_type": "markdown",
   "id": "20f82919",
   "metadata": {},
   "source": [
    "At this point we are ready to can the PSBC model"
   ]
  },
  {
   "cell_type": "code",
   "execution_count": 9,
   "id": "7ed6290b",
   "metadata": {},
   "outputs": [
    {
     "name": "stdout",
     "output_type": "stream",
     "text": [
      "Setting up a U layer with Neumann B.C.s.\n",
      "Setting up a subordinate model with phase\n",
      "Model: \"psbc\"\n",
      "_________________________________________________________________\n",
      "Layer (type)                 Output Shape              Param #   \n",
      "=================================================================\n",
      "zero_layer (Zero_layer)      multiple                  1         \n",
      "_________________________________________________________________\n",
      "augment_layer (Augment_layer multiple                  1         \n",
      "_________________________________________________________________\n",
      "psbc_u_and_p (PSBC_U_and_P)  multiple                  1801      \n",
      "_________________________________________________________________\n",
      "final_layer (Final_layer)    multiple                  0         \n",
      "=================================================================\n",
      "Total params: 1,803\n",
      "Trainable params: 1,802\n",
      "Non-trainable params: 1\n",
      "_________________________________________________________________\n",
      "None\n"
     ]
    }
   ],
   "source": [
    "model = PSBC_build_model (\n",
    "    parameters,\n",
    "    train_dt_U = True, \n",
    "    train_dt_P = True, \n",
    "    lr_U = lr_schedule_U,\n",
    "    lr_P= lr_schedule_P, \n",
    "    subordinate = subordinate,\n",
    "    loss = keras.losses.mean_squared_error,\n",
    "    metrics = [classify_zero_one],\n",
    "    print_summary = True)"
   ]
  },
  {
   "cell_type": "markdown",
   "id": "5b27aff6",
   "metadata": {},
   "source": [
    "Simple, isn't it?"
   ]
  },
  {
   "cell_type": "markdown",
   "id": "12596dce",
   "metadata": {},
   "source": [
    "# Retrieving best weights and using them to set up a model\n",
    "\n",
    "As explained in the README.pdf file, or in the jupyter-notebook PSBC\\_..., the best parameters we obtained after a grid search are in the pickled files Best\\_parameters.p inside the statistics folder. Let's first retrieve them:"
   ]
  },
  {
   "cell_type": "code",
   "execution_count": 10,
   "id": "37efd303",
   "metadata": {},
   "outputs": [],
   "source": [
    "with open (\"Statistics/Best_parameters.p\", 'rb') as pickled_dic:\n",
    "    Best_parameters  = pickle.load (pickled_dic)"
   ]
  },
  {
   "cell_type": "markdown",
   "id": "da76931c",
   "metadata": {},
   "source": [
    "Now, as explained in the README file, it is easy to retrieve parameters using keys, which are nothing but parameters to the PSBC model we trained. \n",
    "\n",
    "For instance, let's say that we would like to train the model again for variables 4 and 8. In this case, we are talking about the data for the Classifier, which in our case had parameterization cardinality $Npt = 196$ , $Nt = 2$ layers, and layers-1-shared."
   ]
  },
  {
   "cell_type": "code",
   "execution_count": 11,
   "id": "d395479c",
   "metadata": {},
   "outputs": [],
   "source": [
    "variable_0,variable_1 = 4,8"
   ]
  },
  {
   "cell_type": "code",
   "execution_count": 12,
   "id": "85d305b2",
   "metadata": {},
   "outputs": [],
   "source": [
    "chosen_parameters = Best_parameters [\"Classifier_196\"][2][(variable_0,variable_1)][1][196]"
   ]
  },
  {
   "cell_type": "markdown",
   "id": "49a9ad71",
   "metadata": {},
   "source": [
    "Let's see what we got:"
   ]
  },
  {
   "cell_type": "code",
   "execution_count": 13,
   "id": "0047b62e",
   "metadata": {},
   "outputs": [
    {
     "data": {
      "text/plain": [
       "{'dt_range': array([0.2], dtype=float32),\n",
       " 'eps_range': array([0.], dtype=float32),\n",
       " 'layer_share_range': array([1], dtype=uint16),\n",
       " 'lr_P_range': array([0.001], dtype=float32),\n",
       " 'lr_U_range': array([0.1], dtype=float32),\n",
       " 'ptt_range': array([196], dtype=uint16)}"
      ]
     },
     "execution_count": 13,
     "metadata": {},
     "output_type": "execute_result"
    }
   ],
   "source": [
    "chosen_parameters"
   ]
  },
  {
   "cell_type": "markdown",
   "id": "75a8bfcf",
   "metadata": {},
   "source": [
    "Notice that there is some redundancy. For example, the information about layer-k-shared is there again. This level of duplication is minimal, but important: it helps in checking consistency of the database.\n",
    "\n",
    "Now, calling the model goes as before:"
   ]
  },
  {
   "cell_type": "code",
   "execution_count": 14,
   "id": "8444a767",
   "metadata": {},
   "outputs": [],
   "source": [
    "Neumann = True\n",
    "Nt = 2\n",
    "dt = chosen_parameters [\"dt_range\"][0]\n",
    "lr_U = chosen_parameters [\"lr_U_range\"][0]\n",
    "lr_P = chosen_parameters [\"lr_U_range\"][0]\n",
    "pt_cardnlty = 196\n",
    "lks = 1\n",
    "Nx = 784\n",
    "eps = 0\n",
    "subordinate = True"
   ]
  },
  {
   "cell_type": "code",
   "execution_count": 15,
   "id": "ffffb151",
   "metadata": {},
   "outputs": [],
   "source": [
    "parameters = I.dictionary (Nx, eps, Nt, pt_cardnlty, lks, dt = dt, Neumann = Neumann)"
   ]
  },
  {
   "cell_type": "markdown",
   "id": "fcb27b5b",
   "metadata": {},
   "source": [
    "Now, we will initialize the model without a learning schedule. That can be achieved just skipping that part and feeding lr_u and lr_p straigh into the model"
   ]
  },
  {
   "cell_type": "code",
   "execution_count": 16,
   "id": "c73cdfa3",
   "metadata": {},
   "outputs": [
    {
     "name": "stdout",
     "output_type": "stream",
     "text": [
      "Setting up a U layer with Neumann B.C.s.\n",
      "Setting up a subordinate model with phase\n",
      "Model: \"psbc_1\"\n",
      "_________________________________________________________________\n",
      "Layer (type)                 Output Shape              Param #   \n",
      "=================================================================\n",
      "zero_layer_2 (Zero_layer)    multiple                  1         \n",
      "_________________________________________________________________\n",
      "augment_layer_1 (Augment_lay multiple                  1         \n",
      "_________________________________________________________________\n",
      "psbc_u_and_p_1 (PSBC_U_and_P multiple                  784       \n",
      "_________________________________________________________________\n",
      "final_layer_1 (Final_layer)  multiple                  0         \n",
      "=================================================================\n",
      "Total params: 786\n",
      "Trainable params: 786\n",
      "Non-trainable params: 0\n",
      "_________________________________________________________________\n",
      "None\n"
     ]
    }
   ],
   "source": [
    "model = PSBC_build_model (\n",
    "    parameters,\n",
    "    train_dt_U = True, \n",
    "    train_dt_P = True, \n",
    "    lr_U = lr_schedule_U,\n",
    "    lr_P= lr_schedule_P, \n",
    "    subordinate = subordinate,\n",
    "    loss = keras.losses.mean_squared_error,\n",
    "    metrics = [classify_zero_one],\n",
    "    print_summary = True)"
   ]
  },
  {
   "cell_type": "markdown",
   "id": "2711085c",
   "metadata": {},
   "source": [
    "## Retrieving the subset of labels 4 and 8\n",
    "\n",
    "Ok, so before we move on to training we need to select the subset of individuals with label 4 and 8. There is a class of functions that do that. The only thing we need to know is where we are in the tree structure: now we are on the same level as the folder \"Pickled\\_datasets\", which we define as level 0. Any subfolders of folders on this level are at level 1 and so on."
   ]
  },
  {
   "cell_type": "markdown",
   "id": "571ed9ed",
   "metadata": {},
   "source": [
    "S = select_split_pickle (level = 0)"
   ]
  },
  {
   "cell_type": "markdown",
   "id": "cf5319db",
   "metadata": {},
   "source": [
    "and since we want variables 4 and 8 we do"
   ]
  },
  {
   "cell_type": "code",
   "execution_count": 17,
   "id": "5b30d7f6",
   "metadata": {},
   "outputs": [],
   "source": [
    "variable_0, variable_1 = 0, 1"
   ]
  },
  {
   "cell_type": "markdown",
   "id": "7b6ad35e",
   "metadata": {},
   "source": [
    "and finally, in order to retrieve the trianing set, we do"
   ]
  },
  {
   "cell_type": "code",
   "execution_count": 18,
   "id": "5025f686",
   "metadata": {},
   "outputs": [],
   "source": [
    "X_train, Y_train, X_test, Y_test,_  = prepare_train_test_set (variable_0, variable_1, level = 0)"
   ]
  },
  {
   "cell_type": "markdown",
   "id": "2466486c",
   "metadata": {},
   "source": [
    "Let's plot one of them"
   ]
  },
  {
   "cell_type": "code",
   "execution_count": 19,
   "id": "ce94aab0",
   "metadata": {},
   "outputs": [
    {
     "data": {
      "image/png": "[encoded data removed]",
      "text/plain": [
       "<Figure size 432x288 with 1 Axes>"
      ]
     },
     "metadata": {
      "needs_background": "light"
     },
     "output_type": "display_data"
    }
   ],
   "source": [
    "k = np.random.randint (len (Y_test))\n",
    "plt.imshow (np.reshape (X_test [k], (28,28)), cmap = plt.cm.binary)\n",
    "plt.title (Y_test [k])\n",
    "plt.grid (False)\n",
    "plt.show ()            "
   ]
  },
  {
   "cell_type": "markdown",
   "id": "0bd492e4",
   "metadata": {},
   "source": [
    "### Loading weights"
   ]
  },
  {
   "cell_type": "markdown",
   "id": "785733d0",
   "metadata": {},
   "source": [
    "We'd like to use the weights obtained by training. That is easily done by using the class load_PSBC_model()."
   ]
  },
  {
   "cell_type": "code",
   "execution_count": 20,
   "id": "f19efce0",
   "metadata": {},
   "outputs": [],
   "source": [
    "L = load_PSBC_model ()"
   ]
  },
  {
   "cell_type": "markdown",
   "id": "b900d894",
   "metadata": {},
   "source": [
    "Let's get the path for some of the weights. For that, let's use the pickled dictionary All_filepath... in the Statistic folder:"
   ]
  },
  {
   "cell_type": "code",
   "execution_count": 21,
   "id": "1c92738a",
   "metadata": {},
   "outputs": [],
   "source": [
    "with open (\"Statistics/All_filepaths_best_weights.p\", 'rb') as pickled_dic:\n",
    "    All_filepaths_best_weights  = pickle.load (pickled_dic)"
   ]
  },
  {
   "cell_type": "markdown",
   "id": "ca574151",
   "metadata": {},
   "source": [
    "To retrieve the fiepaths, you use the keys as explained in the README file, or jupyter-notebook ***"
   ]
  },
  {
   "cell_type": "code",
   "execution_count": 22,
   "id": "a8ae745a",
   "metadata": {},
   "outputs": [
    {
     "data": {
      "text/plain": [
       "['Classifier_196/2/weights/0_0_196_1_0_0_fold_0_var0_0_var1_1_best_weights.h5',\n",
       " 'Classifier_196/2/weights/0_0_196_1_0_0_fold_1_var0_0_var1_1_best_weights.h5',\n",
       " 'Classifier_196/2/weights/0_0_196_1_0_0_fold_2_var0_0_var1_1_best_weights.h5',\n",
       " 'Classifier_196/2/weights/0_0_196_1_0_0_fold_3_var0_0_var1_1_best_weights.h5',\n",
       " 'Classifier_196/2/weights/0_0_196_1_0_0_fold_4_var0_0_var1_1_best_weights.h5']"
      ]
     },
     "execution_count": 22,
     "metadata": {},
     "output_type": "execute_result"
    }
   ],
   "source": [
    "All_filepaths_best_weights [\"Classifier_196\"][2][(variable_0, variable_1)][1][196][0][\"best_weights\"]"
   ]
  },
  {
   "cell_type": "markdown",
   "id": "28462799",
   "metadata": {},
   "source": [
    "Jsut one of them suffices."
   ]
  },
  {
   "cell_type": "code",
   "execution_count": 23,
   "id": "f405df0b",
   "metadata": {},
   "outputs": [],
   "source": [
    "filepath_chosen = All_filepaths_best_weights [\"Classifier_196\"][2][(variable_0,variable_1)][1][196][0][\"best_weights\"][0]"
   ]
  },
  {
   "cell_type": "markdown",
   "id": "2e2ce9fd",
   "metadata": {},
   "source": [
    "Now, to load it into the model we just call the model, the filepath using the load_PSBC_model function"
   ]
  },
  {
   "cell_type": "code",
   "execution_count": 24,
   "id": "b381cb79",
   "metadata": {},
   "outputs": [],
   "source": [
    "L.load_model_with_layers (model, filepath_chosen)"
   ]
  },
  {
   "cell_type": "markdown",
   "id": "b36b188d",
   "metadata": {},
   "source": [
    "If you want you can also save the weights of a psbc using the function \"save_PSBC\"."
   ]
  },
  {
   "cell_type": "code",
   "execution_count": 25,
   "id": "e993839d",
   "metadata": {},
   "outputs": [
    {
     "name": "stdout",
     "output_type": "stream",
     "text": [
      "\n",
      "    'save_PSBC' function.\n",
      "\n",
      "    This function saves weights of a PSBC model as a file with extension \".h5\".\n",
      "    It can also save parameters as a pickled file (extension \".p\").\n",
      "\n",
      "    Parameters\n",
      "    ----------\n",
      "    model : {keras.Model},\n",
      "        Model whose weights will be saved.\n",
      "    parameters : {dictionary},\n",
      "        Parameters of the model, to be pickled.\n",
      "    weight_name : {str, \"PSBC_model\"}, optional,\n",
      "        Name given to the h5 file containing the weights.\n",
      "    parameters_name : {str, \"parameters.p\"}, optional,\n",
      "        Name given to pickled files that contains the pickled parameters.\n",
      "    \n",
      "    Returns\n",
      "    -------\n",
      "    Nothing is returned.\n",
      "    \n"
     ]
    }
   ],
   "source": [
    "print (save_PSBC.__doc__)"
   ]
  },
  {
   "cell_type": "markdown",
   "id": "e019caf1",
   "metadata": {},
   "source": [
    "## Checking how well the model is doing on a given set\n",
    "\n",
    "\n",
    "If you want to apply the model, you need to normalize the dataset first."
   ]
  },
  {
   "cell_type": "code",
   "execution_count": 26,
   "id": "b17cfac1",
   "metadata": {},
   "outputs": [],
   "source": [
    "y_pred = model.predict_zero_one (0.5 + 0.5 * X_train )"
   ]
  },
  {
   "cell_type": "code",
   "execution_count": 27,
   "id": "044c98fc",
   "metadata": {},
   "outputs": [
    {
     "data": {
      "text/plain": [
       "0.9856296881168575"
      ]
     },
     "execution_count": 27,
     "metadata": {},
     "output_type": "execute_result"
    }
   ],
   "source": [
    "accuracy_score (y_pred, Y_train)"
   ]
  },
  {
   "cell_type": "markdown",
   "id": "0d12ddc7",
   "metadata": {},
   "source": [
    "On the test set the result is slightly worse"
   ]
  },
  {
   "cell_type": "code",
   "execution_count": 28,
   "id": "26d39da7",
   "metadata": {},
   "outputs": [],
   "source": [
    "y_pred = model.predict_zero_one (0.5 + 0.5 * X_test)"
   ]
  },
  {
   "cell_type": "code",
   "execution_count": 29,
   "id": "e8cad8c4",
   "metadata": {},
   "outputs": [
    {
     "data": {
      "text/plain": [
       "0.9872340425531915"
      ]
     },
     "execution_count": 29,
     "metadata": {},
     "output_type": "execute_result"
    }
   ],
   "source": [
    "accuracy_score (y_pred, Y_test)"
   ]
  },
  {
   "cell_type": "markdown",
   "id": "2b6387ca",
   "metadata": {},
   "source": [
    "It is also quite easy to generate confusion matrices (in case you'd like to analize the results in the Neumann, Periodic, and Neumann-non-subordinate folders:"
   ]
  },
  {
   "cell_type": "code",
   "execution_count": 30,
   "id": "428f5c45",
   "metadata": {},
   "outputs": [
    {
     "data": {
      "text/plain": [
       "array([[ 957,    4],\n",
       "       [  23, 1131]])"
      ]
     },
     "execution_count": 30,
     "metadata": {},
     "output_type": "execute_result"
    }
   ],
   "source": [
    "confusion_matrix (y_pred, Y_test)"
   ]
  },
  {
   "cell_type": "markdown",
   "id": "7d8f5906",
   "metadata": {},
   "source": [
    "## Well, but what if I want to train the model myself?"
   ]
  },
  {
   "cell_type": "markdown",
   "id": "4e792307",
   "metadata": {},
   "source": [
    "Sure. You can definitely do it too! The simplest way is expliting the keras API and simply call model.fit"
   ]
  },
  {
   "cell_type": "code",
   "execution_count": 31,
   "id": "e94d0a61",
   "metadata": {},
   "outputs": [],
   "source": [
    "variable_0, variable_1 = 0, 1"
   ]
  },
  {
   "cell_type": "code",
   "execution_count": 32,
   "id": "649a2f7c",
   "metadata": {},
   "outputs": [],
   "source": [
    "X_train, Y_train, X_test, Y_test, _  = prepare_train_test_set (variable_0, variable_1, level = 0)"
   ]
  },
  {
   "cell_type": "code",
   "execution_count": 33,
   "id": "3390677f",
   "metadata": {},
   "outputs": [],
   "source": [
    "chosen_parameters = Best_parameters [\"Neumann\"][4][(variable_0,variable_1)][1][784]"
   ]
  },
  {
   "cell_type": "code",
   "execution_count": 34,
   "id": "c306a322",
   "metadata": {},
   "outputs": [
    {
     "data": {
      "text/plain": [
       "{'dt_range': array([0.2], dtype=float32),\n",
       " 'eps_range': array([0.    , 0.0625, 0.125 , 0.25  , 0.5   , 1.    ], dtype=float32),\n",
       " 'layer_share_range': array([1], dtype=uint16),\n",
       " 'lr_P_range': array([0.1], dtype=float32),\n",
       " 'lr_U_range': array([0.001], dtype=float32),\n",
       " 'ptt_range': array([784], dtype=uint16)}"
      ]
     },
     "execution_count": 34,
     "metadata": {},
     "output_type": "execute_result"
    }
   ],
   "source": [
    "chosen_parameters"
   ]
  },
  {
   "cell_type": "code",
   "execution_count": 35,
   "id": "8e76094e",
   "metadata": {},
   "outputs": [],
   "source": [
    "Neumann = True\n",
    "Nt = 2\n",
    "dt = chosen_parameters [\"dt_range\"][0]\n",
    "lr_U = chosen_parameters [\"lr_U_range\"][0]\n",
    "lr_P = chosen_parameters [\"lr_U_range\"][0]\n",
    "pt_cardnlty = 784\n",
    "lks = 1\n",
    "Nx = 784\n",
    "eps = chosen_parameters [\"eps_range\"][2]\n",
    "subordinate = True"
   ]
  },
  {
   "cell_type": "code",
   "execution_count": 36,
   "id": "dde0f072",
   "metadata": {},
   "outputs": [],
   "source": [
    "parameters = I.dictionary (Nx, eps, Nt, pt_cardnlty, lks, dt = dt, Neumann = Neumann)\n",
    "\n",
    "lr_schedule_U =\\\n",
    "    keras.optimizers.schedules.ExponentialDecay(\n",
    "    initial_learning_rate = lr_U,\n",
    "    decay_steps = 5,\n",
    "    decay_rate = 0.99,\n",
    "    staircase = True)\n",
    "\n",
    "lr_schedule_P =\\\n",
    "    keras.optimizers.schedules.ExponentialDecay(\n",
    "    initial_learning_rate = lr_P,\n",
    "    decay_steps = 5,\n",
    "    decay_rate = 0.99,\n",
    "    staircase = True)"
   ]
  },
  {
   "cell_type": "code",
   "execution_count": 37,
   "id": "e01f4967",
   "metadata": {},
   "outputs": [
    {
     "name": "stdout",
     "output_type": "stream",
     "text": [
      "Setting up a U layer with Neumann B.C.s.\n",
      "Setting up a subordinate model with phase\n",
      "Model: \"psbc_2\"\n",
      "_________________________________________________________________\n",
      "Layer (type)                 Output Shape              Param #   \n",
      "=================================================================\n",
      "zero_layer_4 (Zero_layer)    multiple                  1         \n",
      "_________________________________________________________________\n",
      "augment_layer_2 (Augment_lay multiple                  1         \n",
      "_________________________________________________________________\n",
      "psbc_u_and_p_2 (PSBC_U_and_P multiple                  3137      \n",
      "_________________________________________________________________\n",
      "final_layer_2 (Final_layer)  multiple                  0         \n",
      "=================================================================\n",
      "Total params: 3,139\n",
      "Trainable params: 3,138\n",
      "Non-trainable params: 1\n",
      "_________________________________________________________________\n",
      "None\n"
     ]
    }
   ],
   "source": [
    "model = PSBC_build_model (\n",
    "    parameters,\n",
    "    train_dt_U = True, \n",
    "    train_dt_P = True, \n",
    "    lr_U = lr_schedule_U,\n",
    "    lr_P= lr_schedule_P, \n",
    "    subordinate = subordinate,\n",
    "    loss = keras.losses.mean_squared_error,\n",
    "    metrics = [classify_zero_one],\n",
    "    print_summary = True)"
   ]
  },
  {
   "cell_type": "code",
   "execution_count": 38,
   "id": "6af1afec",
   "metadata": {},
   "outputs": [],
   "source": [
    "EPOCHS = 3"
   ]
  },
  {
   "cell_type": "code",
   "execution_count": 39,
   "id": "acf28eb3",
   "metadata": {},
   "outputs": [
    {
     "name": "stdout",
     "output_type": "stream",
     "text": [
      "Epoch 1/3\n",
      "Training dt_U\n",
      "Training dt_P\n",
      "Training dt_U\n",
      "Training dt_P\n",
      "396/396 [==============================] - 27s 69ms/step - dt_P : 0.5612 - ||W_U||_{infty} : 1.0000 - loss: 0.2465 - classify_zero_one: 0.9699 - ||W_P||_{infty} : 1.0082 - dt_U : 0.5700\n",
      "Epoch 2/3\n",
      "396/396 [==============================] - 27s 68ms/step - dt_P : 0.4453 - ||W_U||_{infty} : 1.0001 - loss: 0.2440 - classify_zero_one: 0.9805 - ||W_P||_{infty} : 1.1344 - dt_U : 0.5699\n",
      "Epoch 3/3\n",
      "396/396 [==============================] - 27s 69ms/step - dt_P : 0.3589 - ||W_U||_{infty} : 1.0218 - loss: 0.2441 - classify_zero_one: 0.9763 - ||W_P||_{infty} : 1.2610 - dt_U : 0.5461\n"
     ]
    }
   ],
   "source": [
    "history = model.fit (0.5 + 0.5 * X_train, Y_train, epochs = EPOCHS)"
   ]
  },
  {
   "cell_type": "markdown",
   "id": "8757572e",
   "metadata": {},
   "source": [
    "The difference in computation time between the inviscid and viscous model is considerable. This was one of the main motivations for the questions we asked in Section 3 of the paper with regards to model selection and model assessment. \n",
    "\n",
    "\n",
    "Now, if you want to see the behavior of several quantities through time (by epochs), you can plot things on the history:"
   ]
  },
  {
   "cell_type": "code",
   "execution_count": 40,
   "id": "c50ad990",
   "metadata": {},
   "outputs": [
    {
     "data": {
      "text/plain": [
       "dict_keys(['dt_P ', '||W_U||_{infty} ', 'loss', 'classify_zero_one', '||W_P||_{infty} ', 'dt_U '])"
      ]
     },
     "execution_count": 40,
     "metadata": {},
     "output_type": "execute_result"
    }
   ],
   "source": [
    "history.history.keys ()"
   ]
  },
  {
   "cell_type": "code",
   "execution_count": 41,
   "id": "bff4ab64",
   "metadata": {},
   "outputs": [
    {
     "data": {
      "image/png": "[encoded data removed]",
      "text/plain": [
       "<Figure size 1080x864 with 3 Axes>"
      ]
     },
     "metadata": {
      "needs_background": "light"
     },
     "output_type": "display_data"
    }
   ],
   "source": [
    "f, ax = plt.subplots(nrows = 3, figsize = (15,12), gridspec_kw = {'hspace' : .5})\n",
    "titles = [r\"Evolution of $\\mathrm{dt}$\", r\"Evolution of weights\", r\"Evolution of accuracy\"]\n",
    "\n",
    "ax [0].plot (history.history ['dt_P '], label = r\"$\\mathrm{dt}_{\\mathrm{p}}$\")\n",
    "ax [0].plot (history.history ['dt_U '], label = r\"$\\mathrm{dt}_{\\mathrm{u}}$\")\n",
    "ax [1].plot (history.history ['||W_P||_{infty} '], label = r\"$W_{\\mathrm{p}}$\")\n",
    "ax [1].plot (history.history ['||W_U||_{infty} '], label = r\"$W_{\\mathrm{u}}$\")\n",
    "ax [2].plot (history.history ['classify_zero_one'], label = \"classify\")\n",
    "\n",
    "for i, fig_now in  enumerate (zip(ax, titles)):\n",
    "    ax_now, title_now = fig_now\n",
    "    ax_now.set_title (title_now, size = 16)\n",
    "    ax_now.grid (True)\n",
    "    ax_now.set_xlabel (\"Epochs\")\n",
    "    ax_now.legend (loc = i%2, fontsize = 14)\n",
    "plt.show()"
   ]
  },
  {
   "cell_type": "markdown",
   "id": "4be02ec4",
   "metadata": {},
   "source": [
    "Notice that there is a peak in accuracy before the final epoch. That's one of the main reasons why Early Stopping has been adopted througout our computations.\n",
    "\n",
    "Last, let's check the accuracy on training and test sets:"
   ]
  },
  {
   "cell_type": "code",
   "execution_count": 42,
   "id": "bdf9f05c",
   "metadata": {},
   "outputs": [
    {
     "name": "stdout",
     "output_type": "stream",
     "text": [
      "Accuracy on training set is 0.9749703908409001\n"
     ]
    }
   ],
   "source": [
    "y_pred = model.predict_zero_one (0.5 + 0.5 * X_train)\n",
    "print (\"Accuracy on training set is\", accuracy_score (y_pred, Y_train))"
   ]
  },
  {
   "cell_type": "code",
   "execution_count": 43,
   "id": "ea4664d9",
   "metadata": {},
   "outputs": [
    {
     "name": "stdout",
     "output_type": "stream",
     "text": [
      "Accuracy on training set is 0.9806146572104019\n"
     ]
    }
   ],
   "source": [
    "y_pred = model.predict_zero_one(0.5 + 0.5 * X_test)\n",
    "print (\"Accuracy on training set is\", accuracy_score (y_pred, Y_test))"
   ]
  },
  {
   "cell_type": "markdown",
   "id": "30620c52",
   "metadata": {},
   "source": [
    "# Ensemble learning\n",
    "\n",
    "Since we have 5 models, no hard voting system would end up in ties. Therefore we define a model that votes based on the averages of the 5 models we have trained.\n",
    "\n",
    "\n",
    "Even though the model has been implemented in full generality, I load it with weights from the classifier, and that relies on the folder structure (to retrieve such data). With that said, we will need to descend into the folder \"Classifier_196/2/\""
   ]
  },
  {
   "cell_type": "code",
   "execution_count": 44,
   "id": "a0eac77e",
   "metadata": {},
   "outputs": [],
   "source": [
    "os.chdir (\"Classifier_196/2/\")"
   ]
  },
  {
   "cell_type": "markdown",
   "id": "d24ea9f8",
   "metadata": {},
   "source": [
    "Now we can retrieve the model"
   ]
  },
  {
   "cell_type": "code",
   "execution_count": 45,
   "id": "0942db5d",
   "metadata": {},
   "outputs": [],
   "source": [
    "how_many = 5\n",
    "with_PCA = False\n",
    "variable_0, variable_1 = 0, 1\n",
    "\n",
    "X_train, Y_train, X_test, Y_test,_  = prepare_train_test_set (variable_0, variable_1, level = 2)"
   ]
  },
  {
   "cell_type": "code",
   "execution_count": 46,
   "id": "7588532c",
   "metadata": {},
   "outputs": [
    {
     "name": "stdout",
     "output_type": "stream",
     "text": [
      "Number of grids 5\n",
      "Loading models\n",
      "Setting up a U layer with Neumann B.C.s.\n",
      "Setting up a subordinate model with phase\n",
      "Setting up a U layer with Neumann B.C.s.\n",
      "Setting up a subordinate model with phase\n",
      "Model: \"psbc_4\"\n",
      "_________________________________________________________________\n",
      "Layer (type)                 Output Shape              Param #   \n",
      "=================================================================\n",
      "zero_layer_8 (Zero_layer)    multiple                  1         \n",
      "_________________________________________________________________\n",
      "augment_layer_4 (Augment_lay multiple                  1         \n",
      "_________________________________________________________________\n",
      "psbc_u_and_p_4 (PSBC_U_and_P multiple                  784       \n",
      "_________________________________________________________________\n",
      "final_layer_4 (Final_layer)  multiple                  0         \n",
      "=================================================================\n",
      "Total params: 786\n",
      "Trainable params: 786\n",
      "Non-trainable params: 0\n",
      "_________________________________________________________________\n",
      "None\n",
      "Setting up a U layer with Neumann B.C.s.\n",
      "Setting up a subordinate model with phase\n",
      "Setting up a U layer with Neumann B.C.s.\n",
      "Setting up a subordinate model with phase\n",
      "Setting up a U layer with Neumann B.C.s.\n",
      "Setting up a subordinate model with phase\n"
     ]
    }
   ],
   "source": [
    "model_ensemble = PSC_ensemble (\n",
    "    variable_0 = variable_0, variable_1 = variable_1,\n",
    "    how_many = how_many, with_PCA = with_PCA)"
   ]
  },
  {
   "cell_type": "markdown",
   "id": "764ebc51",
   "metadata": {},
   "source": [
    "Predictions in this case are given as 5 votes, of which hard voting is taken. Let's make a test by picking 10 individuals at random from the training set and voting:"
   ]
  },
  {
   "cell_type": "code",
   "execution_count": 47,
   "id": "32b6e0e9",
   "metadata": {},
   "outputs": [],
   "source": [
    "choose_people = np.random.choice (np.arange (len (Y_train)), size = 10)"
   ]
  },
  {
   "cell_type": "code",
   "execution_count": 48,
   "id": "ee4bc6ad",
   "metadata": {},
   "outputs": [],
   "source": [
    "Test = X_train [choose_people]"
   ]
  },
  {
   "cell_type": "code",
   "execution_count": 49,
   "id": "d61ec2ea",
   "metadata": {},
   "outputs": [
    {
     "data": {
      "text/plain": [
       "array([1., 0., 0., 0., 1., 0., 1., 0., 0., 0.])"
      ]
     },
     "execution_count": 49,
     "metadata": {},
     "output_type": "execute_result"
    }
   ],
   "source": [
    "Y_train [choose_people]"
   ]
  },
  {
   "cell_type": "markdown",
   "id": "fbd7a6bc",
   "metadata": {},
   "source": [
    "Let's see how the classifiers vote. For this model we don't need any normalization beforehand. That's because the model takes care of that for us."
   ]
  },
  {
   "cell_type": "code",
   "execution_count": 50,
   "id": "4a11db82",
   "metadata": {},
   "outputs": [
    {
     "data": {
      "text/plain": [
       "<tf.Variable 'psc_ensemble/Variable:0' shape=(10, 5) dtype=float32, numpy=\n",
       "array([[1., 1., 1., 1., 1.],\n",
       "       [0., 0., 0., 0., 0.],\n",
       "       [0., 0., 0., 0., 0.],\n",
       "       [0., 0., 0., 0., 0.],\n",
       "       [1., 1., 1., 1., 1.],\n",
       "       [0., 0., 0., 0., 0.],\n",
       "       [1., 1., 1., 1., 1.],\n",
       "       [1., 1., 1., 1., 1.],\n",
       "       [1., 1., 1., 1., 1.],\n",
       "       [0., 0., 0., 0., 0.]], dtype=float32)>"
      ]
     },
     "execution_count": 50,
     "metadata": {},
     "output_type": "execute_result"
    }
   ],
   "source": [
    "commitee_vote = model_ensemble (Test)\n",
    "commitee_vote"
   ]
  },
  {
   "cell_type": "code",
   "execution_count": 51,
   "id": "dc1c2acb",
   "metadata": {},
   "outputs": [
    {
     "data": {
      "text/plain": [
       "array([[1.],\n",
       "       [0.],\n",
       "       [0.],\n",
       "       [0.],\n",
       "       [1.],\n",
       "       [0.],\n",
       "       [1.],\n",
       "       [1.],\n",
       "       [1.],\n",
       "       [0.]], dtype=float32)"
      ]
     },
     "execution_count": 51,
     "metadata": {},
     "output_type": "execute_result"
    }
   ],
   "source": [
    "hard_vote_committee = model_ensemble.hard_vote (Test)\n",
    "\n",
    "hard_vote_committee "
   ]
  },
  {
   "cell_type": "code",
   "execution_count": 52,
   "id": "5778656a",
   "metadata": {},
   "outputs": [
    {
     "data": {
      "text/plain": [
       "0.8"
      ]
     },
     "execution_count": 52,
     "metadata": {},
     "output_type": "execute_result"
    }
   ],
   "source": [
    "accuracy_score (hard_vote_committee , Y_train [choose_people])"
   ]
  },
  {
   "cell_type": "markdown",
   "id": "f819b29a",
   "metadata": {},
   "source": [
    "Overall, we have this"
   ]
  },
  {
   "cell_type": "code",
   "execution_count": 53,
   "id": "71a5d13d",
   "metadata": {},
   "outputs": [],
   "source": [
    "hard_vote_committee = model_ensemble.hard_vote (X_test)"
   ]
  },
  {
   "cell_type": "code",
   "execution_count": 54,
   "id": "52a79dcf",
   "metadata": {},
   "outputs": [
    {
     "data": {
      "text/plain": [
       "0.742789598108747"
      ]
     },
     "execution_count": 54,
     "metadata": {},
     "output_type": "execute_result"
    }
   ],
   "source": [
    "accuracy_score (hard_vote_committee, Y_test)"
   ]
  },
  {
   "cell_type": "markdown",
   "id": "68dd3047",
   "metadata": {},
   "source": [
    "The results are poor for a reason: the model takes care of normalization automatically. Furthermore, the function prepare train_test set balances out the data set in advance, removing the average from the test set. What we need instead are functions that are not normalized"
   ]
  },
  {
   "cell_type": "code",
   "execution_count": 55,
   "id": "5ec400da",
   "metadata": {},
   "outputs": [],
   "source": [
    "S = select_split_pickle (level = 2)\n",
    "\n",
    "X_train, Y_train, _ = S.select_variables_from_pickle (\n",
    "    variable_0, variable_1, type_of = \"train\", averaged = False)"
   ]
  },
  {
   "cell_type": "markdown",
   "id": "e1deb957",
   "metadata": {},
   "source": [
    "Let's check now:"
   ]
  },
  {
   "cell_type": "code",
   "execution_count": 56,
   "id": "7b97fddf",
   "metadata": {},
   "outputs": [
    {
     "data": {
      "text/plain": [
       "0.9865771812080537"
      ]
     },
     "execution_count": 56,
     "metadata": {},
     "output_type": "execute_result"
    }
   ],
   "source": [
    "y_pred = model_ensemble.hard_vote (X_train)\n",
    "\n",
    "accuracy_score (y_pred, Y_train)"
   ]
  },
  {
   "cell_type": "markdown",
   "id": "2516dc2b",
   "metadata": {},
   "source": [
    "Let's take a look at the test set"
   ]
  },
  {
   "cell_type": "code",
   "execution_count": 57,
   "id": "28def262",
   "metadata": {},
   "outputs": [],
   "source": [
    "S = select_split_pickle (level = 2)\n",
    "X_test, Y_test, _ = S.select_variables_from_pickle (\n",
    "        variable_0, variable_1, type_of = \"test\", averaged = False)"
   ]
  },
  {
   "cell_type": "code",
   "execution_count": 58,
   "id": "4c42bcce",
   "metadata": {},
   "outputs": [
    {
     "data": {
      "text/plain": [
       "0.9881796690307328"
      ]
     },
     "execution_count": 58,
     "metadata": {},
     "output_type": "execute_result"
    }
   ],
   "source": [
    "y_pred = model_ensemble.hard_vote (X_test)\n",
    "accuracy_score (y_pred, Y_test)"
   ]
  },
  {
   "cell_type": "code",
   "execution_count": 59,
   "id": "a0c24c1f",
   "metadata": {},
   "outputs": [],
   "source": [
    "os.chdir(\"../../\")"
   ]
  },
  {
   "cell_type": "markdown",
   "id": "211d9d5e",
   "metadata": {},
   "source": [
    "# Multiclass classification using the PSBC\n",
    "\n",
    "Since we are using a  one-versus-one method, we will have to load weights from several PSBCs, applied on pairs of digits of the MNIST database. As in the previous case, we rely on the folder structure (to retrieve such data). With that said, we will need to descend into the folder \"Classifier_196/2/\""
   ]
  },
  {
   "cell_type": "code",
   "execution_count": 60,
   "id": "360dda50",
   "metadata": {},
   "outputs": [],
   "source": [
    "os.chdir(\"Classifier_196/2/\")"
   ]
  },
  {
   "cell_type": "markdown",
   "id": "7fb91c4c",
   "metadata": {},
   "source": [
    "Then, let's retrieve some elements of the MNIST database to test on."
   ]
  },
  {
   "cell_type": "code",
   "execution_count": 61,
   "id": "c7824330",
   "metadata": {},
   "outputs": [],
   "source": [
    "mnist = fetch_openml ('mnist_784', version=1)\n",
    "\n",
    "X, Y = mnist [\"data\"], mnist [\"target\"]\n",
    "\n",
    "M = MinMaxScaler(feature_range=(0,1))\n",
    "M.fit (X)\n",
    "X_norm = M.transform (X)\n",
    "X_norm_test, Y_test = X_norm [60000:,:], Y [60000:]"
   ]
  },
  {
   "cell_type": "markdown",
   "id": "df678805",
   "metadata": {},
   "source": [
    "And now we are ready to call the classifier. Every binary classifier it calls is based on ensemple learning (it is a model given by \"PSC_ensemble()\", which turns out to use the weights of 5 PSBCs, due to Ensemble Learning). It is set up to print the summary of each ensemble model it relies on. In other words, it prints a long summary."
   ]
  },
  {
   "cell_type": "code",
   "execution_count": 62,
   "id": "e7362546",
   "metadata": {},
   "outputs": [
    {
     "name": "stdout",
     "output_type": "stream",
     "text": [
      "Loading models\n",
      "Number of grids 5\n",
      "Loading models\n",
      "Setting up a U layer with Neumann B.C.s.\n",
      "Setting up a subordinate model with phase\n",
      "Setting up a U layer with Neumann B.C.s.\n",
      "Setting up a subordinate model with phase\n",
      "Model: \"psbc_9\"\n",
      "_________________________________________________________________\n",
      "Layer (type)                 Output Shape              Param #   \n",
      "=================================================================\n",
      "zero_layer_18 (Zero_layer)   multiple                  1         \n",
      "_________________________________________________________________\n",
      "augment_layer_9 (Augment_lay multiple                  1         \n",
      "_________________________________________________________________\n",
      "psbc_u_and_p_9 (PSBC_U_and_P multiple                  784       \n",
      "_________________________________________________________________\n",
      "final_layer_9 (Final_layer)  multiple                  0         \n",
      "=================================================================\n",
      "Total params: 786\n",
      "Trainable params: 786\n",
      "Non-trainable params: 0\n",
      "_________________________________________________________________\n",
      "None\n",
      "Setting up a U layer with Neumann B.C.s.\n",
      "Setting up a subordinate model with phase\n",
      "Setting up a U layer with Neumann B.C.s.\n",
      "Setting up a subordinate model with phase\n",
      "Setting up a U layer with Neumann B.C.s.\n",
      "Setting up a subordinate model with phase\n",
      "Number of grids 5\n",
      "Loading models\n",
      "Setting up a U layer with Neumann B.C.s.\n",
      "Setting up a subordinate model with phase\n",
      "Setting up a U layer with Neumann B.C.s.\n",
      "Setting up a subordinate model with phase\n",
      "Model: \"psbc_14\"\n",
      "_________________________________________________________________\n",
      "Layer (type)                 Output Shape              Param #   \n",
      "=================================================================\n",
      "zero_layer_28 (Zero_layer)   multiple                  1         \n",
      "_________________________________________________________________\n",
      "augment_layer_14 (Augment_la multiple                  1         \n",
      "_________________________________________________________________\n",
      "psbc_u_and_p_14 (PSBC_U_and_ multiple                  784       \n",
      "_________________________________________________________________\n",
      "final_layer_14 (Final_layer) multiple                  0         \n",
      "=================================================================\n",
      "Total params: 786\n",
      "Trainable params: 786\n",
      "Non-trainable params: 0\n",
      "_________________________________________________________________\n",
      "None\n",
      "Setting up a U layer with Neumann B.C.s.\n",
      "Setting up a subordinate model with phase\n",
      "Setting up a U layer with Neumann B.C.s.\n",
      "Setting up a subordinate model with phase\n",
      "Setting up a U layer with Neumann B.C.s.\n",
      "Setting up a subordinate model with phase\n",
      "Number of grids 5\n",
      "Loading models\n",
      "Setting up a U layer with Neumann B.C.s.\n",
      "Setting up a subordinate model with phase\n",
      "Setting up a U layer with Neumann B.C.s.\n",
      "Setting up a subordinate model with phase\n",
      "Model: \"psbc_19\"\n",
      "_________________________________________________________________\n",
      "Layer (type)                 Output Shape              Param #   \n",
      "=================================================================\n",
      "zero_layer_38 (Zero_layer)   multiple                  1         \n",
      "_________________________________________________________________\n",
      "augment_layer_19 (Augment_la multiple                  1         \n",
      "_________________________________________________________________\n",
      "psbc_u_and_p_19 (PSBC_U_and_ multiple                  784       \n",
      "_________________________________________________________________\n",
      "final_layer_19 (Final_layer) multiple                  0         \n",
      "=================================================================\n",
      "Total params: 786\n",
      "Trainable params: 786\n",
      "Non-trainable params: 0\n",
      "_________________________________________________________________\n",
      "None\n",
      "Setting up a U layer with Neumann B.C.s.\n",
      "Setting up a subordinate model with phase\n",
      "Setting up a U layer with Neumann B.C.s.\n",
      "Setting up a subordinate model with phase\n",
      "Setting up a U layer with Neumann B.C.s.\n",
      "Setting up a subordinate model with phase\n",
      "Number of grids 5\n",
      "Loading models\n",
      "Setting up a U layer with Neumann B.C.s.\n",
      "Setting up a subordinate model with phase\n",
      "Setting up a U layer with Neumann B.C.s.\n",
      "Setting up a subordinate model with phase\n",
      "Model: \"psbc_24\"\n",
      "_________________________________________________________________\n",
      "Layer (type)                 Output Shape              Param #   \n",
      "=================================================================\n",
      "zero_layer_48 (Zero_layer)   multiple                  1         \n",
      "_________________________________________________________________\n",
      "augment_layer_24 (Augment_la multiple                  1         \n",
      "_________________________________________________________________\n",
      "psbc_u_and_p_24 (PSBC_U_and_ multiple                  784       \n",
      "_________________________________________________________________\n",
      "final_layer_24 (Final_layer) multiple                  0         \n",
      "=================================================================\n",
      "Total params: 786\n",
      "Trainable params: 786\n",
      "Non-trainable params: 0\n",
      "_________________________________________________________________\n",
      "None\n",
      "Setting up a U layer with Neumann B.C.s.\n",
      "Setting up a subordinate model with phase\n",
      "Setting up a U layer with Neumann B.C.s.\n",
      "Setting up a subordinate model with phase\n",
      "Setting up a U layer with Neumann B.C.s.\n",
      "Setting up a subordinate model with phase\n",
      "Number of grids 5\n",
      "Loading models\n",
      "Setting up a U layer with Neumann B.C.s.\n",
      "Setting up a subordinate model with phase\n",
      "Setting up a U layer with Neumann B.C.s.\n",
      "Setting up a subordinate model with phase\n",
      "Model: \"psbc_29\"\n",
      "_________________________________________________________________\n",
      "Layer (type)                 Output Shape              Param #   \n",
      "=================================================================\n",
      "zero_layer_58 (Zero_layer)   multiple                  1         \n",
      "_________________________________________________________________\n",
      "augment_layer_29 (Augment_la multiple                  1         \n",
      "_________________________________________________________________\n",
      "psbc_u_and_p_29 (PSBC_U_and_ multiple                  784       \n",
      "_________________________________________________________________\n",
      "final_layer_29 (Final_layer) multiple                  0         \n",
      "=================================================================\n",
      "Total params: 786\n",
      "Trainable params: 786\n",
      "Non-trainable params: 0\n",
      "_________________________________________________________________\n",
      "None\n",
      "Setting up a U layer with Neumann B.C.s.\n",
      "Setting up a subordinate model with phase\n",
      "Setting up a U layer with Neumann B.C.s.\n",
      "Setting up a subordinate model with phase\n",
      "Setting up a U layer with Neumann B.C.s.\n",
      "Setting up a subordinate model with phase\n",
      "Number of grids 5\n",
      "Loading models\n",
      "Setting up a U layer with Neumann B.C.s.\n",
      "Setting up a subordinate model with phase\n",
      "Setting up a U layer with Neumann B.C.s.\n",
      "Setting up a subordinate model with phase\n",
      "Model: \"psbc_34\"\n",
      "_________________________________________________________________\n",
      "Layer (type)                 Output Shape              Param #   \n",
      "=================================================================\n",
      "zero_layer_68 (Zero_layer)   multiple                  1         \n",
      "_________________________________________________________________\n",
      "augment_layer_34 (Augment_la multiple                  1         \n",
      "_________________________________________________________________\n",
      "psbc_u_and_p_34 (PSBC_U_and_ multiple                  784       \n",
      "_________________________________________________________________\n",
      "final_layer_34 (Final_layer) multiple                  0         \n",
      "=================================================================\n",
      "Total params: 786\n",
      "Trainable params: 786\n",
      "Non-trainable params: 0\n",
      "_________________________________________________________________\n",
      "None\n",
      "Setting up a U layer with Neumann B.C.s.\n",
      "Setting up a subordinate model with phase\n",
      "Setting up a U layer with Neumann B.C.s.\n",
      "Setting up a subordinate model with phase\n",
      "Setting up a U layer with Neumann B.C.s.\n",
      "Setting up a subordinate model with phase\n",
      "Number of grids 5\n",
      "Loading models\n",
      "Setting up a U layer with Neumann B.C.s.\n",
      "Setting up a subordinate model with phase\n",
      "Setting up a U layer with Neumann B.C.s.\n",
      "Setting up a subordinate model with phase\n",
      "Model: \"psbc_39\"\n",
      "_________________________________________________________________\n",
      "Layer (type)                 Output Shape              Param #   \n",
      "=================================================================\n",
      "zero_layer_78 (Zero_layer)   multiple                  1         \n",
      "_________________________________________________________________\n",
      "augment_layer_39 (Augment_la multiple                  1         \n",
      "_________________________________________________________________\n",
      "psbc_u_and_p_39 (PSBC_U_and_ multiple                  784       \n",
      "_________________________________________________________________\n",
      "final_layer_39 (Final_layer) multiple                  0         \n",
      "=================================================================\n",
      "Total params: 786\n",
      "Trainable params: 786\n",
      "Non-trainable params: 0\n",
      "_________________________________________________________________\n",
      "None\n",
      "Setting up a U layer with Neumann B.C.s.\n",
      "Setting up a subordinate model with phase\n"
     ]
    },
    {
     "name": "stdout",
     "output_type": "stream",
     "text": [
      "Setting up a U layer with Neumann B.C.s.\n",
      "Setting up a subordinate model with phase\n",
      "Setting up a U layer with Neumann B.C.s.\n",
      "Setting up a subordinate model with phase\n",
      "Number of grids 5\n",
      "Loading models\n",
      "Setting up a U layer with Neumann B.C.s.\n",
      "Setting up a subordinate model with phase\n",
      "Setting up a U layer with Neumann B.C.s.\n",
      "Setting up a subordinate model with phase\n",
      "Model: \"psbc_44\"\n",
      "_________________________________________________________________\n",
      "Layer (type)                 Output Shape              Param #   \n",
      "=================================================================\n",
      "zero_layer_88 (Zero_layer)   multiple                  1         \n",
      "_________________________________________________________________\n",
      "augment_layer_44 (Augment_la multiple                  1         \n",
      "_________________________________________________________________\n",
      "psbc_u_and_p_44 (PSBC_U_and_ multiple                  784       \n",
      "_________________________________________________________________\n",
      "final_layer_44 (Final_layer) multiple                  0         \n",
      "=================================================================\n",
      "Total params: 786\n",
      "Trainable params: 786\n",
      "Non-trainable params: 0\n",
      "_________________________________________________________________\n",
      "None\n",
      "Setting up a U layer with Neumann B.C.s.\n",
      "Setting up a subordinate model with phase\n",
      "Setting up a U layer with Neumann B.C.s.\n",
      "Setting up a subordinate model with phase\n",
      "Setting up a U layer with Neumann B.C.s.\n",
      "Setting up a subordinate model with phase\n",
      "Number of grids 5\n",
      "Loading models\n",
      "Setting up a U layer with Neumann B.C.s.\n",
      "Setting up a subordinate model with phase\n",
      "Setting up a U layer with Neumann B.C.s.\n",
      "Setting up a subordinate model with phase\n",
      "Model: \"psbc_49\"\n",
      "_________________________________________________________________\n",
      "Layer (type)                 Output Shape              Param #   \n",
      "=================================================================\n",
      "zero_layer_98 (Zero_layer)   multiple                  1         \n",
      "_________________________________________________________________\n",
      "augment_layer_49 (Augment_la multiple                  1         \n",
      "_________________________________________________________________\n",
      "psbc_u_and_p_49 (PSBC_U_and_ multiple                  784       \n",
      "_________________________________________________________________\n",
      "final_layer_49 (Final_layer) multiple                  0         \n",
      "=================================================================\n",
      "Total params: 786\n",
      "Trainable params: 786\n",
      "Non-trainable params: 0\n",
      "_________________________________________________________________\n",
      "None\n",
      "Setting up a U layer with Neumann B.C.s.\n",
      "Setting up a subordinate model with phase\n",
      "Setting up a U layer with Neumann B.C.s.\n",
      "Setting up a subordinate model with phase\n",
      "Setting up a U layer with Neumann B.C.s.\n",
      "Setting up a subordinate model with phase\n",
      "Number of grids 5\n",
      "Loading models\n",
      "Setting up a U layer with Neumann B.C.s.\n",
      "Setting up a subordinate model with phase\n",
      "Setting up a U layer with Neumann B.C.s.\n",
      "Setting up a subordinate model with phase\n",
      "Model: \"psbc_54\"\n",
      "_________________________________________________________________\n",
      "Layer (type)                 Output Shape              Param #   \n",
      "=================================================================\n",
      "zero_layer_108 (Zero_layer)  multiple                  1         \n",
      "_________________________________________________________________\n",
      "augment_layer_54 (Augment_la multiple                  1         \n",
      "_________________________________________________________________\n",
      "psbc_u_and_p_54 (PSBC_U_and_ multiple                  784       \n",
      "_________________________________________________________________\n",
      "final_layer_54 (Final_layer) multiple                  0         \n",
      "=================================================================\n",
      "Total params: 786\n",
      "Trainable params: 786\n",
      "Non-trainable params: 0\n",
      "_________________________________________________________________\n",
      "None\n",
      "Setting up a U layer with Neumann B.C.s.\n",
      "Setting up a subordinate model with phase\n",
      "Setting up a U layer with Neumann B.C.s.\n",
      "Setting up a subordinate model with phase\n",
      "Setting up a U layer with Neumann B.C.s.\n",
      "Setting up a subordinate model with phase\n",
      "Number of grids 5\n",
      "Loading models\n",
      "Setting up a U layer with Neumann B.C.s.\n",
      "Setting up a subordinate model with phase\n",
      "Setting up a U layer with Neumann B.C.s.\n",
      "Setting up a subordinate model with phase\n",
      "Model: \"psbc_59\"\n",
      "_________________________________________________________________\n",
      "Layer (type)                 Output Shape              Param #   \n",
      "=================================================================\n",
      "zero_layer_118 (Zero_layer)  multiple                  1         \n",
      "_________________________________________________________________\n",
      "augment_layer_59 (Augment_la multiple                  1         \n",
      "_________________________________________________________________\n",
      "psbc_u_and_p_59 (PSBC_U_and_ multiple                  784       \n",
      "_________________________________________________________________\n",
      "final_layer_59 (Final_layer) multiple                  0         \n",
      "=================================================================\n",
      "Total params: 786\n",
      "Trainable params: 786\n",
      "Non-trainable params: 0\n",
      "_________________________________________________________________\n",
      "None\n",
      "Setting up a U layer with Neumann B.C.s.\n",
      "Setting up a subordinate model with phase\n",
      "Setting up a U layer with Neumann B.C.s.\n",
      "Setting up a subordinate model with phase\n",
      "Setting up a U layer with Neumann B.C.s.\n",
      "Setting up a subordinate model with phase\n",
      "Number of grids 5\n",
      "Loading models\n",
      "Setting up a U layer with Neumann B.C.s.\n",
      "Setting up a subordinate model with phase\n",
      "Setting up a U layer with Neumann B.C.s.\n",
      "Setting up a subordinate model with phase\n",
      "Model: \"psbc_64\"\n",
      "_________________________________________________________________\n",
      "Layer (type)                 Output Shape              Param #   \n",
      "=================================================================\n",
      "zero_layer_128 (Zero_layer)  multiple                  1         \n",
      "_________________________________________________________________\n",
      "augment_layer_64 (Augment_la multiple                  1         \n",
      "_________________________________________________________________\n",
      "psbc_u_and_p_64 (PSBC_U_and_ multiple                  784       \n",
      "_________________________________________________________________\n",
      "final_layer_64 (Final_layer) multiple                  0         \n",
      "=================================================================\n",
      "Total params: 786\n",
      "Trainable params: 786\n",
      "Non-trainable params: 0\n",
      "_________________________________________________________________\n",
      "None\n",
      "Setting up a U layer with Neumann B.C.s.\n",
      "Setting up a subordinate model with phase\n",
      "Setting up a U layer with Neumann B.C.s.\n",
      "Setting up a subordinate model with phase\n",
      "Setting up a U layer with Neumann B.C.s.\n",
      "Setting up a subordinate model with phase\n",
      "Number of grids 5\n",
      "Loading models\n",
      "Setting up a U layer with Neumann B.C.s.\n",
      "Setting up a subordinate model with phase\n",
      "Setting up a U layer with Neumann B.C.s.\n",
      "Setting up a subordinate model with phase\n",
      "Model: \"psbc_69\"\n",
      "_________________________________________________________________\n",
      "Layer (type)                 Output Shape              Param #   \n",
      "=================================================================\n",
      "zero_layer_138 (Zero_layer)  multiple                  1         \n",
      "_________________________________________________________________\n",
      "augment_layer_69 (Augment_la multiple                  1         \n",
      "_________________________________________________________________\n",
      "psbc_u_and_p_69 (PSBC_U_and_ multiple                  784       \n",
      "_________________________________________________________________\n",
      "final_layer_69 (Final_layer) multiple                  0         \n",
      "=================================================================\n",
      "Total params: 786\n",
      "Trainable params: 786\n",
      "Non-trainable params: 0\n",
      "_________________________________________________________________\n",
      "None\n",
      "Setting up a U layer with Neumann B.C.s.\n",
      "Setting up a subordinate model with phase\n",
      "Setting up a U layer with Neumann B.C.s.\n",
      "Setting up a subordinate model with phase\n",
      "Setting up a U layer with Neumann B.C.s.\n",
      "Setting up a subordinate model with phase\n",
      "Number of grids 5\n",
      "Loading models\n",
      "Setting up a U layer with Neumann B.C.s.\n",
      "Setting up a subordinate model with phase\n",
      "Setting up a U layer with Neumann B.C.s.\n",
      "Setting up a subordinate model with phase\n"
     ]
    },
    {
     "name": "stdout",
     "output_type": "stream",
     "text": [
      "Model: \"psbc_74\"\n",
      "_________________________________________________________________\n",
      "Layer (type)                 Output Shape              Param #   \n",
      "=================================================================\n",
      "zero_layer_148 (Zero_layer)  multiple                  1         \n",
      "_________________________________________________________________\n",
      "augment_layer_74 (Augment_la multiple                  1         \n",
      "_________________________________________________________________\n",
      "psbc_u_and_p_74 (PSBC_U_and_ multiple                  784       \n",
      "_________________________________________________________________\n",
      "final_layer_74 (Final_layer) multiple                  0         \n",
      "=================================================================\n",
      "Total params: 786\n",
      "Trainable params: 786\n",
      "Non-trainable params: 0\n",
      "_________________________________________________________________\n",
      "None\n",
      "Setting up a U layer with Neumann B.C.s.\n",
      "Setting up a subordinate model with phase\n",
      "Setting up a U layer with Neumann B.C.s.\n",
      "Setting up a subordinate model with phase\n",
      "Setting up a U layer with Neumann B.C.s.\n",
      "Setting up a subordinate model with phase\n",
      "Number of grids 5\n",
      "Loading models\n",
      "Setting up a U layer with Neumann B.C.s.\n",
      "Setting up a subordinate model with phase\n",
      "Setting up a U layer with Neumann B.C.s.\n",
      "Setting up a subordinate model with phase\n",
      "Model: \"psbc_79\"\n",
      "_________________________________________________________________\n",
      "Layer (type)                 Output Shape              Param #   \n",
      "=================================================================\n",
      "zero_layer_158 (Zero_layer)  multiple                  1         \n",
      "_________________________________________________________________\n",
      "augment_layer_79 (Augment_la multiple                  1         \n",
      "_________________________________________________________________\n",
      "psbc_u_and_p_79 (PSBC_U_and_ multiple                  784       \n",
      "_________________________________________________________________\n",
      "final_layer_79 (Final_layer) multiple                  0         \n",
      "=================================================================\n",
      "Total params: 786\n",
      "Trainable params: 786\n",
      "Non-trainable params: 0\n",
      "_________________________________________________________________\n",
      "None\n",
      "Setting up a U layer with Neumann B.C.s.\n",
      "Setting up a subordinate model with phase\n",
      "Setting up a U layer with Neumann B.C.s.\n",
      "Setting up a subordinate model with phase\n",
      "Setting up a U layer with Neumann B.C.s.\n",
      "Setting up a subordinate model with phase\n",
      "Number of grids 5\n",
      "Loading models\n",
      "Setting up a U layer with Neumann B.C.s.\n",
      "Setting up a subordinate model with phase\n",
      "Setting up a U layer with Neumann B.C.s.\n",
      "Setting up a subordinate model with phase\n",
      "Model: \"psbc_84\"\n",
      "_________________________________________________________________\n",
      "Layer (type)                 Output Shape              Param #   \n",
      "=================================================================\n",
      "zero_layer_168 (Zero_layer)  multiple                  1         \n",
      "_________________________________________________________________\n",
      "augment_layer_84 (Augment_la multiple                  1         \n",
      "_________________________________________________________________\n",
      "psbc_u_and_p_84 (PSBC_U_and_ multiple                  784       \n",
      "_________________________________________________________________\n",
      "final_layer_84 (Final_layer) multiple                  0         \n",
      "=================================================================\n",
      "Total params: 786\n",
      "Trainable params: 786\n",
      "Non-trainable params: 0\n",
      "_________________________________________________________________\n",
      "None\n",
      "Setting up a U layer with Neumann B.C.s.\n",
      "Setting up a subordinate model with phase\n",
      "Setting up a U layer with Neumann B.C.s.\n",
      "Setting up a subordinate model with phase\n",
      "Setting up a U layer with Neumann B.C.s.\n",
      "Setting up a subordinate model with phase\n",
      "Number of grids 5\n",
      "Loading models\n",
      "Setting up a U layer with Neumann B.C.s.\n",
      "Setting up a subordinate model with phase\n",
      "Setting up a U layer with Neumann B.C.s.\n",
      "Setting up a subordinate model with phase\n",
      "Model: \"psbc_89\"\n",
      "_________________________________________________________________\n",
      "Layer (type)                 Output Shape              Param #   \n",
      "=================================================================\n",
      "zero_layer_178 (Zero_layer)  multiple                  1         \n",
      "_________________________________________________________________\n",
      "augment_layer_89 (Augment_la multiple                  1         \n",
      "_________________________________________________________________\n",
      "psbc_u_and_p_89 (PSBC_U_and_ multiple                  784       \n",
      "_________________________________________________________________\n",
      "final_layer_89 (Final_layer) multiple                  0         \n",
      "=================================================================\n",
      "Total params: 786\n",
      "Trainable params: 786\n",
      "Non-trainable params: 0\n",
      "_________________________________________________________________\n",
      "None\n",
      "Setting up a U layer with Neumann B.C.s.\n",
      "Setting up a subordinate model with phase\n",
      "Setting up a U layer with Neumann B.C.s.\n",
      "Setting up a subordinate model with phase\n",
      "Setting up a U layer with Neumann B.C.s.\n",
      "Setting up a subordinate model with phase\n",
      "Number of grids 5\n",
      "Loading models\n",
      "Setting up a U layer with Neumann B.C.s.\n",
      "Setting up a subordinate model with phase\n",
      "Setting up a U layer with Neumann B.C.s.\n",
      "Setting up a subordinate model with phase\n",
      "Model: \"psbc_94\"\n",
      "_________________________________________________________________\n",
      "Layer (type)                 Output Shape              Param #   \n",
      "=================================================================\n",
      "zero_layer_188 (Zero_layer)  multiple                  1         \n",
      "_________________________________________________________________\n",
      "augment_layer_94 (Augment_la multiple                  1         \n",
      "_________________________________________________________________\n",
      "psbc_u_and_p_94 (PSBC_U_and_ multiple                  784       \n",
      "_________________________________________________________________\n",
      "final_layer_94 (Final_layer) multiple                  0         \n",
      "=================================================================\n",
      "Total params: 786\n",
      "Trainable params: 786\n",
      "Non-trainable params: 0\n",
      "_________________________________________________________________\n",
      "None\n",
      "Setting up a U layer with Neumann B.C.s.\n",
      "Setting up a subordinate model with phase\n",
      "Setting up a U layer with Neumann B.C.s.\n",
      "Setting up a subordinate model with phase\n",
      "Setting up a U layer with Neumann B.C.s.\n",
      "Setting up a subordinate model with phase\n",
      "Number of grids 5\n",
      "Loading models\n",
      "Setting up a U layer with Neumann B.C.s.\n",
      "Setting up a subordinate model with phase\n",
      "Setting up a U layer with Neumann B.C.s.\n",
      "Setting up a subordinate model with phase\n",
      "Model: \"psbc_99\"\n",
      "_________________________________________________________________\n",
      "Layer (type)                 Output Shape              Param #   \n",
      "=================================================================\n",
      "zero_layer_198 (Zero_layer)  multiple                  1         \n",
      "_________________________________________________________________\n",
      "augment_layer_99 (Augment_la multiple                  1         \n",
      "_________________________________________________________________\n",
      "psbc_u_and_p_99 (PSBC_U_and_ multiple                  784       \n",
      "_________________________________________________________________\n",
      "final_layer_99 (Final_layer) multiple                  0         \n",
      "=================================================================\n",
      "Total params: 786\n",
      "Trainable params: 786\n",
      "Non-trainable params: 0\n",
      "_________________________________________________________________\n",
      "None\n",
      "Setting up a U layer with Neumann B.C.s.\n",
      "Setting up a subordinate model with phase\n",
      "Setting up a U layer with Neumann B.C.s.\n",
      "Setting up a subordinate model with phase\n",
      "Setting up a U layer with Neumann B.C.s.\n",
      "Setting up a subordinate model with phase\n",
      "Number of grids 5\n",
      "Loading models\n",
      "Setting up a U layer with Neumann B.C.s.\n",
      "Setting up a subordinate model with phase\n",
      "Setting up a U layer with Neumann B.C.s.\n",
      "Setting up a subordinate model with phase\n",
      "Model: \"psbc_104\"\n",
      "_________________________________________________________________\n",
      "Layer (type)                 Output Shape              Param #   \n",
      "=================================================================\n",
      "zero_layer_208 (Zero_layer)  multiple                  1         \n",
      "_________________________________________________________________\n",
      "augment_layer_104 (Augment_l multiple                  1         \n",
      "_________________________________________________________________\n",
      "psbc_u_and_p_104 (PSBC_U_and multiple                  784       \n",
      "_________________________________________________________________\n",
      "final_layer_104 (Final_layer multiple                  0         \n",
      "=================================================================\n",
      "Total params: 786\n",
      "Trainable params: 786\n",
      "Non-trainable params: 0\n",
      "_________________________________________________________________\n",
      "None\n",
      "Setting up a U layer with Neumann B.C.s.\n",
      "Setting up a subordinate model with phase\n"
     ]
    },
    {
     "name": "stdout",
     "output_type": "stream",
     "text": [
      "Setting up a U layer with Neumann B.C.s.\n",
      "Setting up a subordinate model with phase\n",
      "Setting up a U layer with Neumann B.C.s.\n",
      "Setting up a subordinate model with phase\n",
      "Number of grids 5\n",
      "Loading models\n",
      "Setting up a U layer with Neumann B.C.s.\n",
      "Setting up a subordinate model with phase\n",
      "Setting up a U layer with Neumann B.C.s.\n",
      "Setting up a subordinate model with phase\n",
      "Model: \"psbc_109\"\n",
      "_________________________________________________________________\n",
      "Layer (type)                 Output Shape              Param #   \n",
      "=================================================================\n",
      "zero_layer_218 (Zero_layer)  multiple                  1         \n",
      "_________________________________________________________________\n",
      "augment_layer_109 (Augment_l multiple                  1         \n",
      "_________________________________________________________________\n",
      "psbc_u_and_p_109 (PSBC_U_and multiple                  784       \n",
      "_________________________________________________________________\n",
      "final_layer_109 (Final_layer multiple                  0         \n",
      "=================================================================\n",
      "Total params: 786\n",
      "Trainable params: 786\n",
      "Non-trainable params: 0\n",
      "_________________________________________________________________\n",
      "None\n",
      "Setting up a U layer with Neumann B.C.s.\n",
      "Setting up a subordinate model with phase\n",
      "Setting up a U layer with Neumann B.C.s.\n",
      "Setting up a subordinate model with phase\n",
      "Setting up a U layer with Neumann B.C.s.\n",
      "Setting up a subordinate model with phase\n",
      "Number of grids 5\n",
      "Loading models\n",
      "Setting up a U layer with Neumann B.C.s.\n",
      "Setting up a subordinate model with phase\n",
      "Setting up a U layer with Neumann B.C.s.\n",
      "Setting up a subordinate model with phase\n",
      "Model: \"psbc_114\"\n",
      "_________________________________________________________________\n",
      "Layer (type)                 Output Shape              Param #   \n",
      "=================================================================\n",
      "zero_layer_228 (Zero_layer)  multiple                  1         \n",
      "_________________________________________________________________\n",
      "augment_layer_114 (Augment_l multiple                  1         \n",
      "_________________________________________________________________\n",
      "psbc_u_and_p_114 (PSBC_U_and multiple                  784       \n",
      "_________________________________________________________________\n",
      "final_layer_114 (Final_layer multiple                  0         \n",
      "=================================================================\n",
      "Total params: 786\n",
      "Trainable params: 786\n",
      "Non-trainable params: 0\n",
      "_________________________________________________________________\n",
      "None\n",
      "Setting up a U layer with Neumann B.C.s.\n",
      "Setting up a subordinate model with phase\n",
      "Setting up a U layer with Neumann B.C.s.\n",
      "Setting up a subordinate model with phase\n",
      "Setting up a U layer with Neumann B.C.s.\n",
      "Setting up a subordinate model with phase\n",
      "Number of grids 5\n",
      "Loading models\n",
      "Setting up a U layer with Neumann B.C.s.\n",
      "Setting up a subordinate model with phase\n",
      "Setting up a U layer with Neumann B.C.s.\n",
      "Setting up a subordinate model with phase\n",
      "Model: \"psbc_119\"\n",
      "_________________________________________________________________\n",
      "Layer (type)                 Output Shape              Param #   \n",
      "=================================================================\n",
      "zero_layer_238 (Zero_layer)  multiple                  1         \n",
      "_________________________________________________________________\n",
      "augment_layer_119 (Augment_l multiple                  1         \n",
      "_________________________________________________________________\n",
      "psbc_u_and_p_119 (PSBC_U_and multiple                  784       \n",
      "_________________________________________________________________\n",
      "final_layer_119 (Final_layer multiple                  0         \n",
      "=================================================================\n",
      "Total params: 786\n",
      "Trainable params: 786\n",
      "Non-trainable params: 0\n",
      "_________________________________________________________________\n",
      "None\n",
      "Setting up a U layer with Neumann B.C.s.\n",
      "Setting up a subordinate model with phase\n",
      "Setting up a U layer with Neumann B.C.s.\n",
      "Setting up a subordinate model with phase\n",
      "Setting up a U layer with Neumann B.C.s.\n",
      "Setting up a subordinate model with phase\n",
      "Number of grids 5\n",
      "Loading models\n",
      "Setting up a U layer with Neumann B.C.s.\n",
      "Setting up a subordinate model with phase\n",
      "Setting up a U layer with Neumann B.C.s.\n",
      "Setting up a subordinate model with phase\n",
      "Model: \"psbc_124\"\n",
      "_________________________________________________________________\n",
      "Layer (type)                 Output Shape              Param #   \n",
      "=================================================================\n",
      "zero_layer_248 (Zero_layer)  multiple                  1         \n",
      "_________________________________________________________________\n",
      "augment_layer_124 (Augment_l multiple                  1         \n",
      "_________________________________________________________________\n",
      "psbc_u_and_p_124 (PSBC_U_and multiple                  784       \n",
      "_________________________________________________________________\n",
      "final_layer_124 (Final_layer multiple                  0         \n",
      "=================================================================\n",
      "Total params: 786\n",
      "Trainable params: 786\n",
      "Non-trainable params: 0\n",
      "_________________________________________________________________\n",
      "None\n",
      "Setting up a U layer with Neumann B.C.s.\n",
      "Setting up a subordinate model with phase\n",
      "Setting up a U layer with Neumann B.C.s.\n",
      "Setting up a subordinate model with phase\n",
      "Setting up a U layer with Neumann B.C.s.\n",
      "Setting up a subordinate model with phase\n",
      "Number of grids 5\n",
      "Loading models\n",
      "Setting up a U layer with Neumann B.C.s.\n",
      "Setting up a subordinate model with phase\n",
      "Setting up a U layer with Neumann B.C.s.\n",
      "Setting up a subordinate model with phase\n",
      "Model: \"psbc_129\"\n",
      "_________________________________________________________________\n",
      "Layer (type)                 Output Shape              Param #   \n",
      "=================================================================\n",
      "zero_layer_258 (Zero_layer)  multiple                  1         \n",
      "_________________________________________________________________\n",
      "augment_layer_129 (Augment_l multiple                  1         \n",
      "_________________________________________________________________\n",
      "psbc_u_and_p_129 (PSBC_U_and multiple                  784       \n",
      "_________________________________________________________________\n",
      "final_layer_129 (Final_layer multiple                  0         \n",
      "=================================================================\n",
      "Total params: 786\n",
      "Trainable params: 786\n",
      "Non-trainable params: 0\n",
      "_________________________________________________________________\n",
      "None\n",
      "Setting up a U layer with Neumann B.C.s.\n",
      "Setting up a subordinate model with phase\n",
      "Setting up a U layer with Neumann B.C.s.\n",
      "Setting up a subordinate model with phase\n",
      "Setting up a U layer with Neumann B.C.s.\n",
      "Setting up a subordinate model with phase\n",
      "Number of grids 5\n",
      "Loading models\n",
      "Setting up a U layer with Neumann B.C.s.\n",
      "Setting up a subordinate model with phase\n",
      "Setting up a U layer with Neumann B.C.s.\n",
      "Setting up a subordinate model with phase\n",
      "Model: \"psbc_134\"\n",
      "_________________________________________________________________\n",
      "Layer (type)                 Output Shape              Param #   \n",
      "=================================================================\n",
      "zero_layer_268 (Zero_layer)  multiple                  1         \n",
      "_________________________________________________________________\n",
      "augment_layer_134 (Augment_l multiple                  1         \n",
      "_________________________________________________________________\n",
      "psbc_u_and_p_134 (PSBC_U_and multiple                  784       \n",
      "_________________________________________________________________\n",
      "final_layer_134 (Final_layer multiple                  0         \n",
      "=================================================================\n",
      "Total params: 786\n",
      "Trainable params: 786\n",
      "Non-trainable params: 0\n",
      "_________________________________________________________________\n",
      "None\n",
      "Setting up a U layer with Neumann B.C.s.\n",
      "Setting up a subordinate model with phase\n",
      "Setting up a U layer with Neumann B.C.s.\n",
      "Setting up a subordinate model with phase\n",
      "Setting up a U layer with Neumann B.C.s.\n",
      "Setting up a subordinate model with phase\n",
      "Number of grids 5\n",
      "Loading models\n",
      "Setting up a U layer with Neumann B.C.s.\n",
      "Setting up a subordinate model with phase\n",
      "Setting up a U layer with Neumann B.C.s.\n",
      "Setting up a subordinate model with phase\n"
     ]
    },
    {
     "name": "stdout",
     "output_type": "stream",
     "text": [
      "Model: \"psbc_139\"\n",
      "_________________________________________________________________\n",
      "Layer (type)                 Output Shape              Param #   \n",
      "=================================================================\n",
      "zero_layer_278 (Zero_layer)  multiple                  1         \n",
      "_________________________________________________________________\n",
      "augment_layer_139 (Augment_l multiple                  1         \n",
      "_________________________________________________________________\n",
      "psbc_u_and_p_139 (PSBC_U_and multiple                  784       \n",
      "_________________________________________________________________\n",
      "final_layer_139 (Final_layer multiple                  0         \n",
      "=================================================================\n",
      "Total params: 786\n",
      "Trainable params: 786\n",
      "Non-trainable params: 0\n",
      "_________________________________________________________________\n",
      "None\n",
      "Setting up a U layer with Neumann B.C.s.\n",
      "Setting up a subordinate model with phase\n",
      "Setting up a U layer with Neumann B.C.s.\n",
      "Setting up a subordinate model with phase\n",
      "Setting up a U layer with Neumann B.C.s.\n",
      "Setting up a subordinate model with phase\n",
      "Number of grids 5\n",
      "Loading models\n",
      "Setting up a U layer with Neumann B.C.s.\n",
      "Setting up a subordinate model with phase\n",
      "Setting up a U layer with Neumann B.C.s.\n",
      "Setting up a subordinate model with phase\n",
      "Model: \"psbc_144\"\n",
      "_________________________________________________________________\n",
      "Layer (type)                 Output Shape              Param #   \n",
      "=================================================================\n",
      "zero_layer_288 (Zero_layer)  multiple                  1         \n",
      "_________________________________________________________________\n",
      "augment_layer_144 (Augment_l multiple                  1         \n",
      "_________________________________________________________________\n",
      "psbc_u_and_p_144 (PSBC_U_and multiple                  784       \n",
      "_________________________________________________________________\n",
      "final_layer_144 (Final_layer multiple                  0         \n",
      "=================================================================\n",
      "Total params: 786\n",
      "Trainable params: 786\n",
      "Non-trainable params: 0\n",
      "_________________________________________________________________\n",
      "None\n",
      "Setting up a U layer with Neumann B.C.s.\n",
      "Setting up a subordinate model with phase\n",
      "Setting up a U layer with Neumann B.C.s.\n",
      "Setting up a subordinate model with phase\n",
      "Setting up a U layer with Neumann B.C.s.\n",
      "Setting up a subordinate model with phase\n",
      "Number of grids 5\n",
      "Loading models\n",
      "Setting up a U layer with Neumann B.C.s.\n",
      "Setting up a subordinate model with phase\n",
      "Setting up a U layer with Neumann B.C.s.\n",
      "Setting up a subordinate model with phase\n",
      "Model: \"psbc_149\"\n",
      "_________________________________________________________________\n",
      "Layer (type)                 Output Shape              Param #   \n",
      "=================================================================\n",
      "zero_layer_298 (Zero_layer)  multiple                  1         \n",
      "_________________________________________________________________\n",
      "augment_layer_149 (Augment_l multiple                  1         \n",
      "_________________________________________________________________\n",
      "psbc_u_and_p_149 (PSBC_U_and multiple                  784       \n",
      "_________________________________________________________________\n",
      "final_layer_149 (Final_layer multiple                  0         \n",
      "=================================================================\n",
      "Total params: 786\n",
      "Trainable params: 786\n",
      "Non-trainable params: 0\n",
      "_________________________________________________________________\n",
      "None\n",
      "Setting up a U layer with Neumann B.C.s.\n",
      "Setting up a subordinate model with phase\n",
      "Setting up a U layer with Neumann B.C.s.\n",
      "Setting up a subordinate model with phase\n",
      "Setting up a U layer with Neumann B.C.s.\n",
      "Setting up a subordinate model with phase\n",
      "Number of grids 5\n",
      "Loading models\n",
      "Setting up a U layer with Neumann B.C.s.\n",
      "Setting up a subordinate model with phase\n",
      "Setting up a U layer with Neumann B.C.s.\n",
      "Setting up a subordinate model with phase\n",
      "Model: \"psbc_154\"\n",
      "_________________________________________________________________\n",
      "Layer (type)                 Output Shape              Param #   \n",
      "=================================================================\n",
      "zero_layer_308 (Zero_layer)  multiple                  1         \n",
      "_________________________________________________________________\n",
      "augment_layer_154 (Augment_l multiple                  1         \n",
      "_________________________________________________________________\n",
      "psbc_u_and_p_154 (PSBC_U_and multiple                  784       \n",
      "_________________________________________________________________\n",
      "final_layer_154 (Final_layer multiple                  0         \n",
      "=================================================================\n",
      "Total params: 786\n",
      "Trainable params: 786\n",
      "Non-trainable params: 0\n",
      "_________________________________________________________________\n",
      "None\n",
      "Setting up a U layer with Neumann B.C.s.\n",
      "Setting up a subordinate model with phase\n",
      "Setting up a U layer with Neumann B.C.s.\n",
      "Setting up a subordinate model with phase\n",
      "Setting up a U layer with Neumann B.C.s.\n",
      "Setting up a subordinate model with phase\n",
      "Number of grids 5\n",
      "Loading models\n",
      "Setting up a U layer with Neumann B.C.s.\n",
      "Setting up a subordinate model with phase\n",
      "Setting up a U layer with Neumann B.C.s.\n",
      "Setting up a subordinate model with phase\n",
      "Model: \"psbc_159\"\n",
      "_________________________________________________________________\n",
      "Layer (type)                 Output Shape              Param #   \n",
      "=================================================================\n",
      "zero_layer_318 (Zero_layer)  multiple                  1         \n",
      "_________________________________________________________________\n",
      "augment_layer_159 (Augment_l multiple                  1         \n",
      "_________________________________________________________________\n",
      "psbc_u_and_p_159 (PSBC_U_and multiple                  784       \n",
      "_________________________________________________________________\n",
      "final_layer_159 (Final_layer multiple                  0         \n",
      "=================================================================\n",
      "Total params: 786\n",
      "Trainable params: 786\n",
      "Non-trainable params: 0\n",
      "_________________________________________________________________\n",
      "None\n",
      "Setting up a U layer with Neumann B.C.s.\n",
      "Setting up a subordinate model with phase\n",
      "Setting up a U layer with Neumann B.C.s.\n",
      "Setting up a subordinate model with phase\n",
      "Setting up a U layer with Neumann B.C.s.\n",
      "Setting up a subordinate model with phase\n",
      "Number of grids 5\n",
      "Loading models\n",
      "Setting up a U layer with Neumann B.C.s.\n",
      "Setting up a subordinate model with phase\n",
      "Setting up a U layer with Neumann B.C.s.\n",
      "Setting up a subordinate model with phase\n",
      "Model: \"psbc_164\"\n",
      "_________________________________________________________________\n",
      "Layer (type)                 Output Shape              Param #   \n",
      "=================================================================\n",
      "zero_layer_328 (Zero_layer)  multiple                  1         \n",
      "_________________________________________________________________\n",
      "augment_layer_164 (Augment_l multiple                  1         \n",
      "_________________________________________________________________\n",
      "psbc_u_and_p_164 (PSBC_U_and multiple                  784       \n",
      "_________________________________________________________________\n",
      "final_layer_164 (Final_layer multiple                  0         \n",
      "=================================================================\n",
      "Total params: 786\n",
      "Trainable params: 786\n",
      "Non-trainable params: 0\n",
      "_________________________________________________________________\n",
      "None\n",
      "Setting up a U layer with Neumann B.C.s.\n",
      "Setting up a subordinate model with phase\n",
      "Setting up a U layer with Neumann B.C.s.\n",
      "Setting up a subordinate model with phase\n",
      "Setting up a U layer with Neumann B.C.s.\n",
      "Setting up a subordinate model with phase\n",
      "Number of grids 5\n",
      "Loading models\n",
      "Setting up a U layer with Neumann B.C.s.\n",
      "Setting up a subordinate model with phase\n",
      "Setting up a U layer with Neumann B.C.s.\n",
      "Setting up a subordinate model with phase\n",
      "Model: \"psbc_169\"\n",
      "_________________________________________________________________\n",
      "Layer (type)                 Output Shape              Param #   \n",
      "=================================================================\n",
      "zero_layer_338 (Zero_layer)  multiple                  1         \n",
      "_________________________________________________________________\n",
      "augment_layer_169 (Augment_l multiple                  1         \n",
      "_________________________________________________________________\n",
      "psbc_u_and_p_169 (PSBC_U_and multiple                  784       \n",
      "_________________________________________________________________\n",
      "final_layer_169 (Final_layer multiple                  0         \n",
      "=================================================================\n",
      "Total params: 786\n",
      "Trainable params: 786\n",
      "Non-trainable params: 0\n",
      "_________________________________________________________________\n",
      "None\n",
      "Setting up a U layer with Neumann B.C.s.\n",
      "Setting up a subordinate model with phase\n"
     ]
    },
    {
     "name": "stdout",
     "output_type": "stream",
     "text": [
      "Setting up a U layer with Neumann B.C.s.\n",
      "Setting up a subordinate model with phase\n",
      "Setting up a U layer with Neumann B.C.s.\n",
      "Setting up a subordinate model with phase\n",
      "Number of grids 5\n",
      "Loading models\n",
      "Setting up a U layer with Neumann B.C.s.\n",
      "Setting up a subordinate model with phase\n",
      "Setting up a U layer with Neumann B.C.s.\n",
      "Setting up a subordinate model with phase\n",
      "Model: \"psbc_174\"\n",
      "_________________________________________________________________\n",
      "Layer (type)                 Output Shape              Param #   \n",
      "=================================================================\n",
      "zero_layer_348 (Zero_layer)  multiple                  1         \n",
      "_________________________________________________________________\n",
      "augment_layer_174 (Augment_l multiple                  1         \n",
      "_________________________________________________________________\n",
      "psbc_u_and_p_174 (PSBC_U_and multiple                  784       \n",
      "_________________________________________________________________\n",
      "final_layer_174 (Final_layer multiple                  0         \n",
      "=================================================================\n",
      "Total params: 786\n",
      "Trainable params: 786\n",
      "Non-trainable params: 0\n",
      "_________________________________________________________________\n",
      "None\n",
      "Setting up a U layer with Neumann B.C.s.\n",
      "Setting up a subordinate model with phase\n",
      "Setting up a U layer with Neumann B.C.s.\n",
      "Setting up a subordinate model with phase\n",
      "Setting up a U layer with Neumann B.C.s.\n",
      "Setting up a subordinate model with phase\n",
      "Number of grids 5\n",
      "Loading models\n",
      "Setting up a U layer with Neumann B.C.s.\n",
      "Setting up a subordinate model with phase\n",
      "Setting up a U layer with Neumann B.C.s.\n",
      "Setting up a subordinate model with phase\n",
      "Model: \"psbc_179\"\n",
      "_________________________________________________________________\n",
      "Layer (type)                 Output Shape              Param #   \n",
      "=================================================================\n",
      "zero_layer_358 (Zero_layer)  multiple                  1         \n",
      "_________________________________________________________________\n",
      "augment_layer_179 (Augment_l multiple                  1         \n",
      "_________________________________________________________________\n",
      "psbc_u_and_p_179 (PSBC_U_and multiple                  784       \n",
      "_________________________________________________________________\n",
      "final_layer_179 (Final_layer multiple                  0         \n",
      "=================================================================\n",
      "Total params: 786\n",
      "Trainable params: 786\n",
      "Non-trainable params: 0\n",
      "_________________________________________________________________\n",
      "None\n",
      "Setting up a U layer with Neumann B.C.s.\n",
      "Setting up a subordinate model with phase\n",
      "Setting up a U layer with Neumann B.C.s.\n",
      "Setting up a subordinate model with phase\n",
      "Setting up a U layer with Neumann B.C.s.\n",
      "Setting up a subordinate model with phase\n",
      "Number of grids 5\n",
      "Loading models\n",
      "Setting up a U layer with Neumann B.C.s.\n",
      "Setting up a subordinate model with phase\n",
      "Setting up a U layer with Neumann B.C.s.\n",
      "Setting up a subordinate model with phase\n",
      "Model: \"psbc_184\"\n",
      "_________________________________________________________________\n",
      "Layer (type)                 Output Shape              Param #   \n",
      "=================================================================\n",
      "zero_layer_368 (Zero_layer)  multiple                  1         \n",
      "_________________________________________________________________\n",
      "augment_layer_184 (Augment_l multiple                  1         \n",
      "_________________________________________________________________\n",
      "psbc_u_and_p_184 (PSBC_U_and multiple                  784       \n",
      "_________________________________________________________________\n",
      "final_layer_184 (Final_layer multiple                  0         \n",
      "=================================================================\n",
      "Total params: 786\n",
      "Trainable params: 786\n",
      "Non-trainable params: 0\n",
      "_________________________________________________________________\n",
      "None\n",
      "Setting up a U layer with Neumann B.C.s.\n",
      "Setting up a subordinate model with phase\n",
      "Setting up a U layer with Neumann B.C.s.\n",
      "Setting up a subordinate model with phase\n",
      "Setting up a U layer with Neumann B.C.s.\n",
      "Setting up a subordinate model with phase\n",
      "Number of grids 5\n",
      "Loading models\n",
      "Setting up a U layer with Neumann B.C.s.\n",
      "Setting up a subordinate model with phase\n",
      "Setting up a U layer with Neumann B.C.s.\n",
      "Setting up a subordinate model with phase\n",
      "Model: \"psbc_189\"\n",
      "_________________________________________________________________\n",
      "Layer (type)                 Output Shape              Param #   \n",
      "=================================================================\n",
      "zero_layer_378 (Zero_layer)  multiple                  1         \n",
      "_________________________________________________________________\n",
      "augment_layer_189 (Augment_l multiple                  1         \n",
      "_________________________________________________________________\n",
      "psbc_u_and_p_189 (PSBC_U_and multiple                  784       \n",
      "_________________________________________________________________\n",
      "final_layer_189 (Final_layer multiple                  0         \n",
      "=================================================================\n",
      "Total params: 786\n",
      "Trainable params: 786\n",
      "Non-trainable params: 0\n",
      "_________________________________________________________________\n",
      "None\n",
      "Setting up a U layer with Neumann B.C.s.\n",
      "Setting up a subordinate model with phase\n",
      "Setting up a U layer with Neumann B.C.s.\n",
      "Setting up a subordinate model with phase\n",
      "Setting up a U layer with Neumann B.C.s.\n",
      "Setting up a subordinate model with phase\n",
      "Number of grids 5\n",
      "Loading models\n",
      "Setting up a U layer with Neumann B.C.s.\n",
      "Setting up a subordinate model with phase\n",
      "Setting up a U layer with Neumann B.C.s.\n",
      "Setting up a subordinate model with phase\n",
      "Model: \"psbc_194\"\n",
      "_________________________________________________________________\n",
      "Layer (type)                 Output Shape              Param #   \n",
      "=================================================================\n",
      "zero_layer_388 (Zero_layer)  multiple                  1         \n",
      "_________________________________________________________________\n",
      "augment_layer_194 (Augment_l multiple                  1         \n",
      "_________________________________________________________________\n",
      "psbc_u_and_p_194 (PSBC_U_and multiple                  784       \n",
      "_________________________________________________________________\n",
      "final_layer_194 (Final_layer multiple                  0         \n",
      "=================================================================\n",
      "Total params: 786\n",
      "Trainable params: 786\n",
      "Non-trainable params: 0\n",
      "_________________________________________________________________\n",
      "None\n",
      "Setting up a U layer with Neumann B.C.s.\n",
      "Setting up a subordinate model with phase\n",
      "Setting up a U layer with Neumann B.C.s.\n",
      "Setting up a subordinate model with phase\n",
      "Setting up a U layer with Neumann B.C.s.\n",
      "Setting up a subordinate model with phase\n",
      "Number of grids 5\n",
      "Loading models\n",
      "Setting up a U layer with Neumann B.C.s.\n",
      "Setting up a subordinate model with phase\n",
      "Setting up a U layer with Neumann B.C.s.\n",
      "Setting up a subordinate model with phase\n",
      "Model: \"psbc_199\"\n",
      "_________________________________________________________________\n",
      "Layer (type)                 Output Shape              Param #   \n",
      "=================================================================\n",
      "zero_layer_398 (Zero_layer)  multiple                  1         \n",
      "_________________________________________________________________\n",
      "augment_layer_199 (Augment_l multiple                  1         \n",
      "_________________________________________________________________\n",
      "psbc_u_and_p_199 (PSBC_U_and multiple                  784       \n",
      "_________________________________________________________________\n",
      "final_layer_199 (Final_layer multiple                  0         \n",
      "=================================================================\n",
      "Total params: 786\n",
      "Trainable params: 786\n",
      "Non-trainable params: 0\n",
      "_________________________________________________________________\n",
      "None\n",
      "Setting up a U layer with Neumann B.C.s.\n",
      "Setting up a subordinate model with phase\n",
      "Setting up a U layer with Neumann B.C.s.\n",
      "Setting up a subordinate model with phase\n",
      "Setting up a U layer with Neumann B.C.s.\n",
      "Setting up a subordinate model with phase\n",
      "Number of grids 5\n",
      "Loading models\n",
      "Setting up a U layer with Neumann B.C.s.\n",
      "Setting up a subordinate model with phase\n"
     ]
    },
    {
     "name": "stdout",
     "output_type": "stream",
     "text": [
      "Setting up a U layer with Neumann B.C.s.\n",
      "Setting up a subordinate model with phase\n",
      "Model: \"psbc_204\"\n",
      "_________________________________________________________________\n",
      "Layer (type)                 Output Shape              Param #   \n",
      "=================================================================\n",
      "zero_layer_408 (Zero_layer)  multiple                  1         \n",
      "_________________________________________________________________\n",
      "augment_layer_204 (Augment_l multiple                  1         \n",
      "_________________________________________________________________\n",
      "psbc_u_and_p_204 (PSBC_U_and multiple                  784       \n",
      "_________________________________________________________________\n",
      "final_layer_204 (Final_layer multiple                  0         \n",
      "=================================================================\n",
      "Total params: 786\n",
      "Trainable params: 786\n",
      "Non-trainable params: 0\n",
      "_________________________________________________________________\n",
      "None\n",
      "Setting up a U layer with Neumann B.C.s.\n",
      "Setting up a subordinate model with phase\n",
      "Setting up a U layer with Neumann B.C.s.\n",
      "Setting up a subordinate model with phase\n",
      "Setting up a U layer with Neumann B.C.s.\n",
      "Setting up a subordinate model with phase\n",
      "Number of grids 5\n",
      "Loading models\n",
      "Setting up a U layer with Neumann B.C.s.\n",
      "Setting up a subordinate model with phase\n",
      "Setting up a U layer with Neumann B.C.s.\n",
      "Setting up a subordinate model with phase\n",
      "Model: \"psbc_209\"\n",
      "_________________________________________________________________\n",
      "Layer (type)                 Output Shape              Param #   \n",
      "=================================================================\n",
      "zero_layer_418 (Zero_layer)  multiple                  1         \n",
      "_________________________________________________________________\n",
      "augment_layer_209 (Augment_l multiple                  1         \n",
      "_________________________________________________________________\n",
      "psbc_u_and_p_209 (PSBC_U_and multiple                  784       \n",
      "_________________________________________________________________\n",
      "final_layer_209 (Final_layer multiple                  0         \n",
      "=================================================================\n",
      "Total params: 786\n",
      "Trainable params: 786\n",
      "Non-trainable params: 0\n",
      "_________________________________________________________________\n",
      "None\n",
      "Setting up a U layer with Neumann B.C.s.\n",
      "Setting up a subordinate model with phase\n",
      "Setting up a U layer with Neumann B.C.s.\n",
      "Setting up a subordinate model with phase\n",
      "Setting up a U layer with Neumann B.C.s.\n",
      "Setting up a subordinate model with phase\n",
      "Number of grids 5\n",
      "Loading models\n",
      "Setting up a U layer with Neumann B.C.s.\n",
      "Setting up a subordinate model with phase\n",
      "Setting up a U layer with Neumann B.C.s.\n",
      "Setting up a subordinate model with phase\n",
      "Model: \"psbc_214\"\n",
      "_________________________________________________________________\n",
      "Layer (type)                 Output Shape              Param #   \n",
      "=================================================================\n",
      "zero_layer_428 (Zero_layer)  multiple                  1         \n",
      "_________________________________________________________________\n",
      "augment_layer_214 (Augment_l multiple                  1         \n",
      "_________________________________________________________________\n",
      "psbc_u_and_p_214 (PSBC_U_and multiple                  784       \n",
      "_________________________________________________________________\n",
      "final_layer_214 (Final_layer multiple                  0         \n",
      "=================================================================\n",
      "Total params: 786\n",
      "Trainable params: 786\n",
      "Non-trainable params: 0\n",
      "_________________________________________________________________\n",
      "None\n",
      "Setting up a U layer with Neumann B.C.s.\n",
      "Setting up a subordinate model with phase\n",
      "Setting up a U layer with Neumann B.C.s.\n",
      "Setting up a subordinate model with phase\n",
      "Setting up a U layer with Neumann B.C.s.\n",
      "Setting up a subordinate model with phase\n",
      "Number of grids 5\n",
      "Loading models\n",
      "Setting up a U layer with Neumann B.C.s.\n",
      "Setting up a subordinate model with phase\n",
      "Setting up a U layer with Neumann B.C.s.\n",
      "Setting up a subordinate model with phase\n",
      "Model: \"psbc_219\"\n",
      "_________________________________________________________________\n",
      "Layer (type)                 Output Shape              Param #   \n",
      "=================================================================\n",
      "zero_layer_438 (Zero_layer)  multiple                  1         \n",
      "_________________________________________________________________\n",
      "augment_layer_219 (Augment_l multiple                  1         \n",
      "_________________________________________________________________\n",
      "psbc_u_and_p_219 (PSBC_U_and multiple                  784       \n",
      "_________________________________________________________________\n",
      "final_layer_219 (Final_layer multiple                  0         \n",
      "=================================================================\n",
      "Total params: 786\n",
      "Trainable params: 786\n",
      "Non-trainable params: 0\n",
      "_________________________________________________________________\n",
      "None\n",
      "Setting up a U layer with Neumann B.C.s.\n",
      "Setting up a subordinate model with phase\n",
      "Setting up a U layer with Neumann B.C.s.\n",
      "Setting up a subordinate model with phase\n",
      "Setting up a U layer with Neumann B.C.s.\n",
      "Setting up a subordinate model with phase\n",
      "Number of grids 5\n",
      "Loading models\n",
      "Setting up a U layer with Neumann B.C.s.\n",
      "Setting up a subordinate model with phase\n",
      "Setting up a U layer with Neumann B.C.s.\n",
      "Setting up a subordinate model with phase\n",
      "Model: \"psbc_224\"\n",
      "_________________________________________________________________\n",
      "Layer (type)                 Output Shape              Param #   \n",
      "=================================================================\n",
      "zero_layer_448 (Zero_layer)  multiple                  1         \n",
      "_________________________________________________________________\n",
      "augment_layer_224 (Augment_l multiple                  1         \n",
      "_________________________________________________________________\n",
      "psbc_u_and_p_224 (PSBC_U_and multiple                  784       \n",
      "_________________________________________________________________\n",
      "final_layer_224 (Final_layer multiple                  0         \n",
      "=================================================================\n",
      "Total params: 786\n",
      "Trainable params: 786\n",
      "Non-trainable params: 0\n",
      "_________________________________________________________________\n",
      "None\n",
      "Setting up a U layer with Neumann B.C.s.\n",
      "Setting up a subordinate model with phase\n",
      "Setting up a U layer with Neumann B.C.s.\n",
      "Setting up a subordinate model with phase\n",
      "Setting up a U layer with Neumann B.C.s.\n",
      "Setting up a subordinate model with phase\n",
      "Number of grids 5\n",
      "Loading models\n",
      "Setting up a U layer with Neumann B.C.s.\n",
      "Setting up a subordinate model with phase\n",
      "Setting up a U layer with Neumann B.C.s.\n",
      "Setting up a subordinate model with phase\n",
      "Model: \"psbc_229\"\n",
      "_________________________________________________________________\n",
      "Layer (type)                 Output Shape              Param #   \n",
      "=================================================================\n",
      "zero_layer_458 (Zero_layer)  multiple                  1         \n",
      "_________________________________________________________________\n",
      "augment_layer_229 (Augment_l multiple                  1         \n",
      "_________________________________________________________________\n",
      "psbc_u_and_p_229 (PSBC_U_and multiple                  784       \n",
      "_________________________________________________________________\n",
      "final_layer_229 (Final_layer multiple                  0         \n",
      "=================================================================\n",
      "Total params: 786\n",
      "Trainable params: 786\n",
      "Non-trainable params: 0\n",
      "_________________________________________________________________\n",
      "None\n",
      "Setting up a U layer with Neumann B.C.s.\n",
      "Setting up a subordinate model with phase\n",
      "Setting up a U layer with Neumann B.C.s.\n",
      "Setting up a subordinate model with phase\n",
      "Setting up a U layer with Neumann B.C.s.\n",
      "Setting up a subordinate model with phase\n"
     ]
    }
   ],
   "source": [
    "classifier_multiclass = PSBC_multi_class ()"
   ]
  },
  {
   "cell_type": "markdown",
   "id": "d744df10",
   "metadata": {},
   "source": [
    "Since this step requires a lot of memory, I will only carry out a the example for a few individuals:"
   ]
  },
  {
   "cell_type": "code",
   "execution_count": 63,
   "id": "3488c945",
   "metadata": {},
   "outputs": [],
   "source": [
    "X_small_test, Y_small_test = X_norm_test [:13], Y_test [:13]"
   ]
  },
  {
   "cell_type": "markdown",
   "id": "a1d0be26",
   "metadata": {},
   "source": [
    "Now we are ready to start. \n",
    "\n",
    "If you propagate individuals using this model you will get a 10 times 10 matrix in the last layer. This is a matrix of votes, telling which digit \"win\" in each pairwise classification the individual is tested on."
   ]
  },
  {
   "cell_type": "code",
   "execution_count": 64,
   "id": "2a3101fe",
   "metadata": {},
   "outputs": [],
   "source": [
    "y_pred = classifier_multiclass (np.asarray (X_small_test, dtype = np.float32))"
   ]
  },
  {
   "cell_type": "markdown",
   "id": "69f7c236",
   "metadata": {},
   "source": [
    "Let's see what it looks like"
   ]
  },
  {
   "cell_type": "code",
   "execution_count": 65,
   "id": "4091f309",
   "metadata": {},
   "outputs": [
    {
     "data": {
      "text/plain": [
       "TensorShape([13, 10, 10])"
      ]
     },
     "execution_count": 65,
     "metadata": {},
     "output_type": "execute_result"
    }
   ],
   "source": [
    "y_pred.shape"
   ]
  },
  {
   "cell_type": "code",
   "execution_count": 66,
   "id": "53f8d630",
   "metadata": {},
   "outputs": [
    {
     "data": {
      "text/plain": [
       "<tf.Tensor: shape=(10, 10), dtype=float32, numpy=\n",
       "array([[0., 1., 0., 0., 1., 0., 0., 1., 0., 1.],\n",
       "       [0., 0., 0., 0., 1., 0., 0., 1., 0., 1.],\n",
       "       [1., 1., 0., 1., 1., 1., 1., 1., 1., 1.],\n",
       "       [1., 1., 0., 0., 1., 0., 1., 1., 1., 1.],\n",
       "       [0., 0., 0., 0., 0., 0., 0., 1., 0., 1.],\n",
       "       [1., 1., 0., 1., 1., 0., 1., 1., 1., 1.],\n",
       "       [1., 1., 0., 0., 1., 0., 0., 1., 1., 1.],\n",
       "       [0., 0., 0., 0., 0., 0., 0., 0., 0., 0.],\n",
       "       [1., 1., 0., 0., 1., 0., 0., 1., 0., 1.],\n",
       "       [0., 0., 0., 0., 0., 0., 0., 1., 0., 0.]], dtype=float32)>"
      ]
     },
     "execution_count": 66,
     "metadata": {},
     "output_type": "execute_result"
    }
   ],
   "source": [
    "y_pred [1]"
   ]
  },
  {
   "cell_type": "markdown",
   "id": "d369f322",
   "metadata": {},
   "source": [
    "The meaning of this matrix is clear: if you look at the element i,j (that is, row i, column j, numbering the first one in each of them as 0) we are talking about the result predicted when classifying the individual X_small_test [1] using the PSBC trained on digits i and j. \n",
    "\n",
    "Let's call this matrix as M. For instance: when i = 0, j = 3, the aggregated PSBC assignes a 0 to that entry. Consequently, element (3,0) is a 1 (check!). It means that it casts a vote on \"3\" rather than on \"0\". Evidently, no votes are cast on the diagonal (which contains only zeros), for the model never performs binary classification over the same two classes.\n",
    "\n",
    "Now, if one want to compute the total number of votes each class receives one just needs to sum up over rows. Let's do that for all these individuals."
   ]
  },
  {
   "cell_type": "code",
   "execution_count": 67,
   "id": "bf543960",
   "metadata": {},
   "outputs": [
    {
     "data": {
      "text/plain": [
       "<tf.Tensor: shape=(13, 10), dtype=float32, numpy=\n",
       "array([[0., 5., 2., 3., 7., 6., 1., 9., 4., 8.],\n",
       "       [4., 3., 9., 7., 2., 8., 6., 0., 5., 1.],\n",
       "       [0., 9., 6., 4., 1., 8., 2., 6., 6., 3.],\n",
       "       [9., 0., 5., 6., 1., 6., 8., 4., 3., 3.],\n",
       "       [0., 1., 5., 2., 9., 4., 6., 7., 3., 8.],\n",
       "       [0., 9., 3., 5., 2., 7., 1., 6., 8., 4.],\n",
       "       [0., 3., 2., 4., 9., 7., 1., 7., 5., 7.],\n",
       "       [0., 3., 1., 2., 8., 7., 4., 6., 5., 9.],\n",
       "       [6., 1., 6., 1., 8., 6., 8., 1., 4., 4.],\n",
       "       [1., 1., 1., 3., 7., 5., 4., 9., 6., 8.],\n",
       "       [9., 0., 6., 6., 3., 8., 4., 2., 6., 1.],\n",
       "       [1., 1., 8., 4., 6., 5., 9., 1., 7., 3.],\n",
       "       [0., 3., 1., 3., 7., 6., 3., 8., 5., 9.]], dtype=float32)>"
      ]
     },
     "execution_count": 67,
     "metadata": {},
     "output_type": "execute_result"
    }
   ],
   "source": [
    "tf.reduce_sum (y_pred, axis = -1)"
   ]
  },
  {
   "cell_type": "markdown",
   "id": "c94fdfa8",
   "metadata": {},
   "source": [
    "A nice way to check whether we summed up over the correct axis is noticing that the symmetry in the output matrix forces it to contain a total of 45 \"1\"s. Let's sum up each row again:"
   ]
  },
  {
   "cell_type": "code",
   "execution_count": 68,
   "id": "fd60320b",
   "metadata": {},
   "outputs": [],
   "source": [
    "the_election_was_not_stolen = tf.reduce_sum (tf.reduce_sum (y_pred, axis = -1), axis = -1)"
   ]
  },
  {
   "cell_type": "code",
   "execution_count": 69,
   "id": "288e1bfe",
   "metadata": {},
   "outputs": [
    {
     "data": {
      "text/plain": [
       "<tf.Tensor: shape=(13,), dtype=float32, numpy=\n",
       "array([45., 45., 45., 45., 45., 45., 45., 45., 45., 45., 45., 45., 45.],\n",
       "      dtype=float32)>"
      ]
     },
     "execution_count": 69,
     "metadata": {},
     "output_type": "execute_result"
    }
   ],
   "source": [
    "the_election_was_not_stolen"
   ]
  },
  {
   "cell_type": "markdown",
   "id": "fda9846b",
   "metadata": {},
   "source": [
    "Great!\n",
    "\n",
    "Now, evidently, if we use hard votes, we just assign the individual to the class that has the highest number of votes. We are doomed to have problems with that if we do not figure out how to solve ties. A possible approach is that of obtaining the most voted individuals and then randomly selecting one among them. Note that this applyies to all cases, even when a single winner is obtained: it ends up being selected by this same algorithm with probability 1.\n",
    "\n",
    "To make this long story short, this is what the function tournament does. "
   ]
  },
  {
   "cell_type": "code",
   "execution_count": 70,
   "id": "6c5f0163",
   "metadata": {},
   "outputs": [],
   "source": [
    "T = tournament (hardvote_or_tournament = \"hard_vote\")"
   ]
  },
  {
   "cell_type": "markdown",
   "id": "021565e3",
   "metadata": {},
   "source": [
    "And class assignment is obtained by doing"
   ]
  },
  {
   "cell_type": "code",
   "execution_count": 71,
   "id": "7a821b2e",
   "metadata": {},
   "outputs": [
    {
     "data": {
      "text/plain": [
       "array([7., 2., 1., 0., 4., 1., 4., 9., 4., 7., 0., 6., 9.])"
      ]
     },
     "execution_count": 71,
     "metadata": {},
     "output_type": "execute_result"
    }
   ],
   "source": [
    "T.aux_tournament (y_pred)"
   ]
  },
  {
   "cell_type": "markdown",
   "id": "756773dc",
   "metadata": {},
   "source": [
    "In fact, it does it in two possible ways: hard voting or tournaments, in which case the 10 individuals are voted, those with lowest votes are removed, and then a new tournaments is defined, only with the votes of the remanescent classes. The previous step repeats until a tie is obtained, and the winner is selected randomly. Of course, the same remarks about a single winner hold in this case as well. \n",
    "\n",
    "You can test it by changing the above code to\n",
    ">**hardvote_or_tournament = \"tournament\"** \n",
    "\n",
    "(you will probably have to define y_pred again before that, for both functions make changes to the prediction vector as a way to save some memory)."
   ]
  },
  {
   "cell_type": "markdown",
   "id": "de75f116",
   "metadata": {},
   "source": [
    "# Final remarks"
   ]
  },
  {
   "cell_type": "markdown",
   "id": "04372ae0",
   "metadata": {},
   "source": [
    "If you are interested in computational details, you should read the code on github. There are about 4-5 thousand lines of code, but I'm honest in saying that things are well organized.  *(The README.pdf file on Github may help you too!)*\n",
    "\n",
    "<br>    By and large I tried to split most models into several layers that have been implemented separately. Functions and classes - as well as their methods -  are quite short: this is done because compartmentalization accelerates implementation, debugging, and fixing (especially when things go wrong, as they always go). For example: implementing the layers took me about of 1 week  this time, whereas in numpy it took me almost a month. This is the first time I used management and software engineering techniques (Scrum and Toyota style) in a scientific project, and I strongly recommend people to learn more about them (especially scientists).\n",
    "\n",
    "<br>For mathematical details, I recommend the paper. It is short and most of the Mathematics is simple and does not rely on heavy machinery.    \n",
    "\n",
    "\n",
    "<br>I should remark that the implementation path I followed, based on tensorflow/keras, is a bit unusual, because it treats the variation of parameters dt_u and dt_p as **\"bifurcation parameters\"**. Although neither of these APIs directly support this type of architecture, they can be achieved if you change the perspective to that of a Recursive Neural Network. I make short statements about that towards the end of the paper, but I didn't want to bother the reader with this matter. \n",
    "\n",
    "\n",
    "<br> Last, remarks about wavelets, gradient flows, mean field models,  and other were put aside for the sake of keeping the paper short and self contained. I have some ideas of where research on this model can go, some of which I shared in the paper (mostly in Section 4). \n",
    "\n",
    "\n",
    "<br>That's it for now. Please, do not hesitate to contact me if you have any questions or would like further clarifications. \n",
    "<br>\n",
    "<br> \n",
    "\n",
    "**Rafael Monteiro, Sendai/Japan, September 18, 2021.**"
   ]
  },
  {
   "cell_type": "code",
   "execution_count": null,
   "id": "3df2372b",
   "metadata": {},
   "outputs": [],
   "source": []
  }
 ],
 "metadata": {
  "kernelspec": {
   "display_name": "Python 3",
   "language": "python",
   "name": "python3"
  },
  "language_info": {
   "codemirror_mode": {
    "name": "ipython",
    "version": 3
   },
   "file_extension": ".py",
   "mimetype": "text/x-python",
   "name": "python",
   "nbconvert_exporter": "python",
   "pygments_lexer": "ipython3",
   "version": "3.5.2"
  }
 },
 "nbformat": 4,
 "nbformat_minor": 5
}
